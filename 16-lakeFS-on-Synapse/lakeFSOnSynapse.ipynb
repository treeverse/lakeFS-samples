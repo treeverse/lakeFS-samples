{
  "cells": [
    {
      "cell_type": "markdown",
      "source": [
        "# lakeFS ❤️ Azure Synapse"
      ],
      "metadata": {
        "nteract": {
          "transient": {
            "deleting": false
          }
        }
      }
    },
    {
      "cell_type": "markdown",
      "source": [
        "## 👩‍🔬 So what are we going to do today?\n",
        "\n",
        "1. Learn how to read/write data from a lakeFS branch\n",
        "1. Create our own isolated branch and play around with said data\n",
        "1. Make a terrible mistake but then promptly undo it\n",
        "1. Cleanse some data, commit and tag it! \n",
        "1. Prove that our tag is fully reproducible even if our branch changed"
      ],
      "metadata": {
        "nteract": {
          "transient": {
            "deleting": false
          }
        }
      }
    },
    {
      "cell_type": "code",
      "source": [
        "# Read data from a lakeFS branch!\n",
        "df = spark.read.format(\"delta\").load(\"lakefs://ml-data-repo/main/datasets/covid_delta/\")\n",
        "df.show(n=5)\n",
        "print(f'we have a total of {df.count()} rows on main!')"
      ],
      "outputs": [],
      "execution_count": null,
      "metadata": {
        "jupyter": {
          "source_hidden": false,
          "outputs_hidden": false
        },
        "nteract": {
          "transient": {
            "deleting": false
          }
        }
      }
    },
    {
      "cell_type": "markdown",
      "source": [
        "### 🌴 Let's create an isolated branch to experiment on!\n",
        "\n",
        "```sh\n",
        "$ lakectl branch create lakefs://ml-data-repo/ozk-dev --source lakefs://ml-data-repo/main \n",
        "```\n",
        "\n",
        "Or, you know, [do it through the UI](http://azure-demo.lakefs.io/repositories/ml-data-repo/branches)"
      ],
      "metadata": {
        "nteract": {
          "transient": {
            "deleting": false
          }
        }
      }
    },
    {
      "cell_type": "code",
      "source": [
        "# Let's read the same data from our dev branch!\n",
        "df = spark.read.format(\"delta\").load(\"lakefs://ml-data-repo/ozk-dev/datasets/covid_delta/\")\n",
        "df.show(n=5)\n",
        "print(f'we have a total of {df.count()} rows on ozk-dev!')"
      ],
      "outputs": [],
      "execution_count": null,
      "metadata": {
        "jupyter": {
          "source_hidden": false,
          "outputs_hidden": false
        },
        "nteract": {
          "transient": {
            "deleting": false
          }
        }
      }
    },
    {
      "cell_type": "code",
      "source": [
        "# Time to make a terrible mistake!\n",
        "df = df.filter(\"deaths > 1000\")\n",
        "df.write.format(\"delta\").mode(\"overwrite\").save(\"lakefs://ml-data-repo/ozk-dev/datasets/covid_delta/\")  # Notice the \"ozk-dev\" branch!"
      ],
      "outputs": [],
      "execution_count": null,
      "metadata": {
        "jupyter": {
          "source_hidden": false,
          "outputs_hidden": false
        },
        "nteract": {
          "transient": {
            "deleting": false
          }
        }
      }
    },
    {
      "cell_type": "markdown",
      "source": [
        "### 🤔 OK, what changed?\n",
        "\n",
        "We can run a diff and see uncommitted changes on our branch:\n",
        "\n",
        "```sh\n",
        "$ lakectl diff \"lakefs://ml-data-repo/ozk-dev\"\n",
        "```\n",
        "\n",
        "Or again, [through the UI](http://azure-demo.lakefs.io/repositories/ml-data-repo/changes?ref=ozk-dev)\n"
      ],
      "metadata": {
        "nteract": {
          "transient": {
            "deleting": false
          }
        }
      }
    },
    {
      "cell_type": "code",
      "source": [
        "# Let's explore the dataset again\n",
        "df = spark.read.format(\"delta\").load(\"lakefs://ml-data-repo/ozk-dev/datasets/covid_delta/\")\n",
        "df.show(n=5)\n",
        "print(f'we have a total of {df.count()} rows on ozk-dev!')"
      ],
      "outputs": [],
      "execution_count": null,
      "metadata": {
        "jupyter": {
          "source_hidden": false,
          "outputs_hidden": false
        },
        "nteract": {
          "transient": {
            "deleting": false
          }
        }
      }
    },
    {
      "cell_type": "markdown",
      "source": [
        "### 😨 Reverting changes\n",
        "\n",
        "OK, so that's not what we wanted - let's undo all uncommitted changes on our `ozk-dev` branch:\n",
        "\n",
        "```sh\n",
        "$ lakectl branch reset \"lakefs://ml-data-repo/ozk-dev\"\n",
        "```"
      ],
      "metadata": {
        "nteract": {
          "transient": {
            "deleting": false
          }
        }
      }
    },
    {
      "cell_type": "code",
      "source": [
        "# Making sure we're good:\n",
        "df = spark.read.format(\"delta\").load(\"lakefs://ml-data-repo/ozk-dev/datasets/covid_delta/\")\n",
        "df.show(n=5)\n",
        "print(f'we have a total of {df.count()} rows on ozk-dev!')"
      ],
      "outputs": [],
      "execution_count": null,
      "metadata": {
        "jupyter": {
          "source_hidden": false,
          "outputs_hidden": false
        },
        "nteract": {
          "transient": {
            "deleting": false
          }
        }
      }
    },
    {
      "cell_type": "code",
      "source": [
        "# Let's make the transformation we wanted:\n",
        "df = df.filter(\"deaths > 0\")  # Is it obvious I'm no data scientist?\n",
        "df.write.format(\"delta\").mode(\"overwrite\").save(\"lakefs://ml-data-repo/ozk-dev/datasets/covid_delta/\")\n",
        "print(f'we have a total of {df.count()} rows on ozk-dev!')"
      ],
      "outputs": [],
      "execution_count": null,
      "metadata": {
        "jupyter": {
          "source_hidden": false,
          "outputs_hidden": false
        },
        "nteract": {
          "transient": {
            "deleting": false
          }
        }
      }
    },
    {
      "cell_type": "markdown",
      "source": [
        "## 🔖 committing and tagging\n",
        "\n",
        "Great! we like this input data at its current state. Let's commit it and tag it, so we can refer to it later:\n",
        "\n",
        "```bash\n",
        "$ lakectl commit \"lakefs://ml-data-repo/ozk-dev\" -m \"data cleaning: show only records with deaths > 0\"\n",
        "```\n",
        "\n",
        "Now, let's tag it:\n",
        "\n",
        "```bash\n",
        "$ lakectl tag create \"lakefs://ml-data-repo/ozk-experiment-covid-202206\" \"lakefs://ml-data-repo/ozk-dev\"\n",
        "```\n",
        "\n"
      ],
      "metadata": {
        "nteract": {
          "transient": {
            "deleting": false
          }
        }
      }
    },
    {
      "cell_type": "code",
      "source": [
        "# Reading from our tag\n",
        "df = spark.read.format(\"delta\").load(\"lakefs://ml-data-repo/ozk-experiment-covid-202206/datasets/covid_delta/\")\n",
        "df.show(n=5)\n",
        "print(f'we have a total of {df.count()} rows on *ozk-experiment-covid-202206*!')"
      ],
      "outputs": [],
      "execution_count": null,
      "metadata": {
        "jupyter": {
          "source_hidden": false,
          "outputs_hidden": false
        },
        "nteract": {
          "transient": {
            "deleting": false
          }
        }
      }
    },
    {
      "cell_type": "code",
      "source": [
        "# Let's make a mess YET AGAIN:\n",
        "df = df.filter(\"deaths > 1000\") \n",
        "df.write.format(\"delta\").mode(\"overwrite\").save(\"lakefs://ml-data-repo/ozk-dev/datasets/covid_delta/\")  # On our branch\n",
        "print(f'we have a total of {df.count()} rows on ozk-dev!')"
      ],
      "outputs": [],
      "execution_count": null,
      "metadata": {
        "jupyter": {
          "source_hidden": false,
          "outputs_hidden": false
        },
        "nteract": {
          "transient": {
            "deleting": false
          }
        }
      }
    },
    {
      "cell_type": "code",
      "source": [
        "# In the meantime, on our tag...\n",
        "df = spark.read.format(\"delta\").load(\"lakefs://ml-data-repo/ozk-experiment-covid-202206/datasets/covid_delta/\")\n",
        "print(f'we have a total of {df.count()} rows on *ozk-experiment-covid-202206*!')"
      ],
      "outputs": [],
      "execution_count": null,
      "metadata": {
        "jupyter": {
          "source_hidden": false,
          "outputs_hidden": false
        },
        "nteract": {
          "transient": {
            "deleting": false
          }
        }
      }
    },
    {
      "cell_type": "markdown",
      "source": [
        "## Yay! What's next?\n",
        "\n",
        "### * [Try lakeFS out](https://docs.lakefs.io/)\n",
        "### * [Read more about how it works](https://docs.lakefs.io/understand/architecture.html)\n",
        "### * [Star it on GitHub ⭐️❤️](https://github.com/treeverse/lakeFS)\n",
        "### * [Join the lakeFS community on Slack](https://lakefs.io/slack)\n"
      ],
      "metadata": {
        "nteract": {
          "transient": {
            "deleting": false
          }
        }
      }
    }
  ],
  "metadata": {
    "language_info": {
      "name": "python"
    },
    "kernelspec": {
      "name": "synapse_pyspark",
      "language": "Python",
      "display_name": "Synapse PySpark"
    },
    "kernel_info": {
      "name": "synapse_pyspark"
    },
    "description": "a lakeFS with Azure Synapse demo",
    "save_output": true,
    "synapse_widget": {
      "version": "0.1",
      "state": {}
    }
  },
  "nbformat": 4,
  "nbformat_minor": 2
}