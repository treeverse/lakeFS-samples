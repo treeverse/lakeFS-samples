{
 "cells": [
  {
   "cell_type": "markdown",
   "id": "9e6a1032-0006-4fa0-9b1d-0763dd11cbc2",
   "metadata": {},
   "source": [
    "# Integration of lakeFS with Dagster"
   ]
  },
  {
   "cell_type": "markdown",
   "id": "ccd6a6d7-13f5-49cb-a633-430ba94405fb",
   "metadata": {},
   "source": [
    "## Versioning Information"
   ]
  },
  {
   "cell_type": "code",
   "execution_count": null,
   "id": "c953d734-f3f3-4550-94bf-c859bdecac02",
   "metadata": {},
   "outputs": [],
   "source": [
    "sourceBranch = \"main\""
   ]
  },
  {
   "cell_type": "markdown",
   "id": "730d08b8-3114-4eb1-9412-ec3341110868",
   "metadata": {},
   "source": [
    "## Import Python packages"
   ]
  },
  {
   "cell_type": "code",
   "execution_count": null,
   "id": "318af35b-8198-4724-b099-8d34f92807dd",
   "metadata": {},
   "outputs": [],
   "source": [
    "%xmode Minimal\n",
    "import datetime\n",
    "import os\n",
    "import lakefs\n",
    "import uuid"
   ]
  },
  {
   "cell_type": "markdown",
   "id": "93883def-2d59-4320-ad47-9a62796b466b",
   "metadata": {},
   "source": [
    "## Set environment variables"
   ]
  },
  {
   "cell_type": "code",
   "execution_count": null,
   "id": "4c53220b-1d7f-4f28-9833-dac79ab1524f",
   "metadata": {},
   "outputs": [],
   "source": [
    "os.environ[\"LAKECTL_SERVER_ENDPOINT_URL\"] = lakefsEndPoint\n",
    "os.environ[\"LAKECTL_CREDENTIALS_ACCESS_KEY_ID\"] = lakefsAccessKey\n",
    "os.environ[\"LAKECTL_CREDENTIALS_SECRET_ACCESS_KEY\"] = lakefsSecretKey"
   ]
  },
  {
   "cell_type": "markdown",
   "id": "974a9467",
   "metadata": {},
   "source": [
    "#### Verify lakeFS credentials by getting lakeFS version"
   ]
  },
  {
   "cell_type": "code",
   "execution_count": null,
   "id": "b65aa3d5",
   "metadata": {},
   "outputs": [],
   "source": [
    "print(\"Verifying lakeFS credentials…\")\n",
    "try:\n",
    "    v=lakefs.client.Client().version\n",
    "except:\n",
    "    print(\"🛑 failed to get lakeFS version\")\n",
    "else:\n",
    "    print(f\"…✅lakeFS credentials verified\\n\\nℹ️lakeFS version {v}\")"
   ]
  },
  {
   "cell_type": "markdown",
   "id": "f9a4957c-898f-4b04-a8ac-58c3b6017f49",
   "metadata": {},
   "source": [
    "## Create Repository"
   ]
  },
  {
   "cell_type": "code",
   "execution_count": null,
   "id": "70ab0e7a-c4fe-411f-8db1-a52810ec9130",
   "metadata": {},
   "outputs": [],
   "source": [
    "try:\n",
    "    repo=lakefs.repository(repo_name)\n",
    "    print(f\"Found existing repo {repo.id} using storage namespace {repo.properties.storage_namespace}\")\n",
    "except lakefs.exceptions.NotFoundException as f:\n",
    "    print(f\"Repository {repo_name} does not exist, so going to try and create it now.\")\n",
    "    try:\n",
    "        repo=lakefs.repository(repo_name).create(storage_namespace=f\"{storageNamespace}/{repo_name}\")\n",
    "        print(f\"Created new repo {repo.id} using storage namespace {repo.properties.storage_namespace}\")\n",
    "    except lakefs.exceptions.LakeFSException as e:\n",
    "        print(f\"Error creating repo {repo_name}. Error is {e}\")\n",
    "except lakefs.exceptions.LakeFSException as e:\n",
    "    print(f\"Error getting repo {repo_name}: {e}\")"
   ]
  },
  {
   "cell_type": "markdown",
   "id": "09fe13bb-3cbf-4334-b3e0-1a775d9b515a",
   "metadata": {},
   "source": [
    "## Start Dagit UI"
   ]
  },
  {
   "cell_type": "code",
   "execution_count": null,
   "id": "c49ca482-269b-4805-a6fe-cf559e0daf6b",
   "metadata": {},
   "outputs": [],
   "source": [
    "%%script bash --bg --out script_out --err script_error\n",
    "dagit -h 0.0.0.0 -p 3000\n",
    "echo \"Dagit UI is running\""
   ]
  },
  {
   "cell_type": "code",
   "execution_count": null,
   "id": "b09ceabd-fc5c-490c-868c-377086e0d177",
   "metadata": {},
   "outputs": [],
   "source": [
    "if lakefsEndPoint.startswith('http://host.docker.internal'):\n",
    "    lakefsUIEndPoint = lakefsEndPoint.replace('host.docker.internal','127.0.0.1')\n",
    "elif lakefsEndPoint.startswith('http://lakefs'):\n",
    "    lakefsUIEndPoint = 'http://127.0.0.1:28000'\n",
    "else:\n",
    "    lakefsUIEndPoint = lakefsEndPoint"
   ]
  }
 ],
 "metadata": {
  "kernelspec": {
   "display_name": "Python 3 (ipykernel)",
   "language": "python",
   "name": "python3"
  },
  "language_info": {
   "codemirror_mode": {
    "name": "ipython",
    "version": 3
   },
   "file_extension": ".py",
   "mimetype": "text/x-python",
   "name": "python",
   "nbconvert_exporter": "python",
   "pygments_lexer": "ipython3",
   "version": "3.10.4"
  }
 },
 "nbformat": 4,
 "nbformat_minor": 5
}
