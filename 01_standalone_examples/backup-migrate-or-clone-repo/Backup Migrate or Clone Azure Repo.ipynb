{
 "cells": [
  {
   "cell_type": "markdown",
   "id": "c4e81663-80e6-4d27-b5d8-788660b20453",
   "metadata": {},
   "source": [
    "# Backup, migrate or clone a lakeFS repository on AWS\n",
    "\n",
    "#### Use this notebook if you want to backup & restore/migrate/clone a source repository to a target repository within the same lakeFS environment or in different lakeFS environments"
   ]
  },
  {
   "cell_type": "markdown",
   "id": "70041e78-71fc-4222-84eb-adb47f2fec33",
   "metadata": {},
   "source": [
    "## Prerequisites\n",
    "\n",
    "#### 1. Source and a target lakeFS environments (you can [deploy one independently](https://docs.lakefs.io/deploy/) or use the hosted solution [lakeFS Cloud](https://lakefs.cloud))\n",
    "#### 2. Source repository\n",
    "#### 3. Storage Container for target repository but don't create target repository ahead of time (you will create a target repo in this notebook)"
   ]
  },
  {
   "cell_type": "markdown",
   "id": "a7a39a3a-c7d8-4f56-a56e-b7f67de561ca",
   "metadata": {},
   "source": [
    "## Setup Task: Import required Python packages"
   ]
  },
  {
   "cell_type": "code",
   "execution_count": null,
   "id": "c8fb6261-08b1-4daa-8866-e417f3b1f302",
   "metadata": {},
   "outputs": [],
   "source": [
    "%xmode Minimal\n",
    "import lakefs\n",
    "from lakefs.client import Client\n",
    "import lakefs_sdk\n",
    "from lakefs_sdk.client import LakeFSClient\n",
    "import random\n",
    "import os\n",
    "import datetime\n",
    "import json"
   ]
  },
  {
   "cell_type": "markdown",
   "id": "95cf9ca3-5044-4dc1-90ac-09eb6b1b869c",
   "metadata": {},
   "source": [
    "## Setup Task: Change your lakeFS credentials for the source lakeFS environment"
   ]
  },
  {
   "cell_type": "code",
   "execution_count": null,
   "id": "5483a303-964d-4555-b7df-680adc52d8b7",
   "metadata": {},
   "outputs": [],
   "source": [
    "sourceLakefsEndPoint = '<Source lakeFS Endpoint URL>' # e.g. 'https://username.azure_region_name.lakefscloud.io'\n",
    "sourceLakefsAccessKey = '<Source lakeFS Access Key>'\n",
    "sourceLakefsSecretKey = '<Source lakeFS Secret Key>'"
   ]
  },
  {
   "cell_type": "markdown",
   "id": "a51da4f5-2943-4a00-a412-5a1955317a6f",
   "metadata": {},
   "source": [
    "## Setup Task: Change your lakeFS credentials for the target lakeFS environment\n",
    "\n",
    "#### If your source and target environments are same then use same credentials for target as you specified for the source above"
   ]
  },
  {
   "cell_type": "code",
   "execution_count": null,
   "id": "23f11814-70b4-4a19-adf4-a62306b1c5c1",
   "metadata": {},
   "outputs": [],
   "source": [
    "targetLakefsEndPoint = '<Target lakeFS Endpoint URL>' # e.g. 'https://username.azure_region_name.lakefscloud.io'\n",
    "targetLakefsAccessKey = '<Target lakeFS Access Key>'\n",
    "targetLakefsSecretKey = '<Target lakeFS Secret Key>'"
   ]
  },
  {
   "cell_type": "markdown",
   "id": "21ae19fa-acd8-4aa0-af93-cdd9bed56487",
   "metadata": {},
   "source": [
    "## Setup Task: Change lakeFS repo names"
   ]
  },
  {
   "cell_type": "code",
   "execution_count": null,
   "id": "4518a8fc-e5e9-42ec-a0b7-5a000833029c",
   "metadata": {},
   "outputs": [],
   "source": [
    "source_repo_name = \"source-repo\"\n",
    "target_repo_name = \"target-repo\""
   ]
  },
  {
   "cell_type": "markdown",
   "id": "a4403f62-8e4e-4a85-8090-241ec0ca9bbd",
   "metadata": {},
   "source": [
    "## Setup Task: Change main/production branch name for the source repo"
   ]
  },
  {
   "cell_type": "code",
   "execution_count": null,
   "id": "de7fd2cf-6183-48da-b400-e45df9c3fc33",
   "metadata": {},
   "outputs": [],
   "source": [
    "source_main_branch = \"main\""
   ]
  },
  {
   "cell_type": "markdown",
   "id": "7609ccaa-3223-4768-8b30-2f41fc3016d3",
   "metadata": {},
   "source": [
    "## Setup Task: Change storage account names and container names for the source & target\n",
    "\n",
    "#### Storage account name can be same for the source and target"
   ]
  },
  {
   "cell_type": "code",
   "execution_count": null,
   "id": "c62890e3-c927-4ee8-badd-d8fd3e1cdc84",
   "metadata": {},
   "outputs": [],
   "source": [
    "source_storage_namespace = 'https://source-storage-account-name.blob.core.windows.net/sourceContainer'\n",
    "target_storage_namespace = 'https://target-storage-account-name.blob.core.windows.net/targetContainer'"
   ]
  },
  {
   "cell_type": "markdown",
   "id": "837b00ea-de09-4200-8df1-5fdc7a8e64fd",
   "metadata": {},
   "source": [
    "## Setup Task: Change SAS Tokens\n",
    "\n",
    "#### You will copy data from source Storage Container to the target Storage Container by using the [azcopy](https://learn.microsoft.com/en-us/azure/storage/common/storage-use-azcopy-v10?toc=%2Fazure%2Fstorage%2Fblobs%2Ftoc.json&bc=%2Fazure%2Fstorage%2Fblobs%2Fbreadcrumb%2Ftoc.json) software (which is pre-installed in this container) and you will use Shared Access Signatures (SAS) token to [Authorize azcopy](https://learn.microsoft.com/en-us/azure/storage/common/storage-use-azcopy-v10?toc=%2Fazure%2Fstorage%2Fblobs%2Ftoc.json&bc=%2Fazure%2Fstorage%2Fblobs%2Fbreadcrumb%2Ftoc.json#authorize-azcopy).\n",
    "\n",
    "#### Use this document to [Create SAS tokens for your storage containers](https://learn.microsoft.com/en-us/azure/cognitive-services/translator/document-translation/how-to-guides/create-sas-tokens?tabs=Containers). Select \"Read\" and \"List\" permissions for Source Container and \"Write\" permission for Target Container while creating SAS Tokens."
   ]
  },
  {
   "cell_type": "code",
   "execution_count": null,
   "id": "e18732d1-5e63-4dbf-90a6-06bb398d8c9f",
   "metadata": {},
   "outputs": [],
   "source": [
    "source_container_SAS_token = 'source_container_SAS_token'"
   ]
  },
  {
   "cell_type": "code",
   "execution_count": null,
   "id": "8fa33e19-8e8a-4371-bc67-db4a05dcb999",
   "metadata": {},
   "outputs": [],
   "source": [
    "target_container_SAS_token = 'target_container_SAS_token'"
   ]
  },
  {
   "cell_type": "markdown",
   "id": "42a55daa-fe3c-47ed-b353-e7cd26dc5f57",
   "metadata": {},
   "source": [
    "## Setup Task: Create lakeFS Python client for source lakeFS environment"
   ]
  },
  {
   "cell_type": "code",
   "execution_count": null,
   "id": "25ceb3de-d811-41fa-b117-ce6e15de293a",
   "metadata": {},
   "outputs": [],
   "source": [
    "if not 'source_lakefs_client' in locals():\n",
    "    source_lakefs_client = Client(\n",
    "        host=sourceLakefsEndPoint,\n",
    "        username=sourceLakefsAccessKey,\n",
    "        password=sourceLakefsSecretKey,\n",
    "    )\n",
    "    \n",
    "    configuration = lakefs_sdk.Configuration(\n",
    "        host=sourceLakefsEndPoint,\n",
    "        username=sourceLakefsAccessKey,\n",
    "        password=sourceLakefsSecretKey,\n",
    "    )\n",
    "    source_lakefs_sdk_client = LakeFSClient(configuration)\n",
    "    \n",
    "    print(\"Verifying lakeFS credentials…\")\n",
    "    try:\n",
    "        v=source_lakefs_client.version\n",
    "        sourceRepo = lakefs.Repository(source_repo_name, client=source_lakefs_client)\n",
    "    except:\n",
    "        print(\"🛑 failed to get lakeFS version\")\n",
    "    else:\n",
    "        print(f\"…✅lakeFS credentials verified\\n\\nℹ️lakeFS version {v}\")"
   ]
  },
  {
   "cell_type": "markdown",
   "id": "e1e05564-131f-4a90-81ca-16dfa1fc2ec4",
   "metadata": {},
   "source": [
    "## Setup Task: Create lakeFS Python client for target lakeFS environment"
   ]
  },
  {
   "cell_type": "code",
   "execution_count": null,
   "id": "b9ffe9b2-5c84-4637-bde6-5ebf40e49d10",
   "metadata": {},
   "outputs": [],
   "source": [
    "if not 'target_lakefs_client' in locals():\n",
    "    target_lakefs_client = Client(\n",
    "        host=targetLakefsEndPoint,\n",
    "        username=targetLakefsAccessKey,\n",
    "        password=targetLakefsSecretKey,\n",
    "    )\n",
    "    \n",
    "    configuration = lakefs_sdk.Configuration(\n",
    "        host=targetLakefsEndPoint,\n",
    "        username=targetLakefsAccessKey,\n",
    "        password=targetLakefsSecretKey,\n",
    "    )\n",
    "    target_lakefs_sdk_client = LakeFSClient(configuration)\n",
    "    \n",
    "    print(\"Verifying lakeFS credentials…\")\n",
    "    try:\n",
    "        v=target_lakefs_client.version\n",
    "    except:\n",
    "        print(\"🛑 failed to get lakeFS version\")\n",
    "    else:\n",
    "        print(f\"…✅lakeFS credentials verified\\n\\nℹ️lakeFS version {v}\")"
   ]
  },
  {
   "cell_type": "markdown",
   "id": "8277d49c-570d-4ade-a976-952ce92e4451",
   "metadata": {},
   "source": [
    "# Step 1 - Commit Changes"
   ]
  },
  {
   "cell_type": "markdown",
   "id": "f35130b5-ef88-44c4-a90b-3969784c3259",
   "metadata": {},
   "source": [
    "## IMPORTANT: Uncommitted data is not migrated over so check uncommitted data (this might take time if you have many branches in the source repo)"
   ]
  },
  {
   "cell_type": "code",
   "execution_count": null,
   "id": "37ff37f6-0915-42aa-b8f7-b89bff042240",
   "metadata": {},
   "outputs": [],
   "source": [
    "for branchList in sourceRepo.branches():\n",
    "    for diff in sourceRepo.branch(branchList.id).uncommitted():\n",
    "        print('Branch with uncommitted data: ' + branchList.id)\n",
    "        break"
   ]
  },
  {
   "cell_type": "markdown",
   "id": "5129aa0d-9f90-4f38-a2a9-f0111a15bcc1",
   "metadata": {},
   "source": [
    "## OPTIONAL: Commit any uncommitted data in your source repo (this might take time if you have many branches in the source repo)\n",
    "#### If you want, you can manually commit the changes for the branches listed above from the lakeFS UI\n",
    "\n",
    "#### You can run previous command again after finishing this to verify that there are not any uncommitted data any more"
   ]
  },
  {
   "cell_type": "code",
   "execution_count": null,
   "id": "3059fc2d-596b-44c2-8401-2b05da5c517b",
   "metadata": {},
   "outputs": [],
   "source": [
    "for branchList in sourceRepo.branches():\n",
    "    for diff in sourceRepo.branch(branchList.id).uncommitted():\n",
    "        ref = sourceRepo.branch(branchList.id).commit(message='Committed changes during the migration of the repository')\n",
    "        print(ref.get_commit())\n",
    "        break"
   ]
  },
  {
   "cell_type": "markdown",
   "id": "998b31bd-87d8-4e5d-9fa9-42c3f2bf920e",
   "metadata": {},
   "source": [
    "# Step 2 - Dump Metadata of Source Repository\n",
    "### IMPORTANT: Shutdown lakeFS services immediately after dumping the metadata so nobody can make any changes in the source repository"
   ]
  },
  {
   "cell_type": "code",
   "execution_count": null,
   "id": "524e2137-dcce-444c-81f7-18ea196b59d2",
   "metadata": {},
   "outputs": [],
   "source": [
    "source_lakefs_sdk_client.internal_api.dump_refs(source_repo_name)"
   ]
  },
  {
   "cell_type": "markdown",
   "id": "e789b515-2333-4d45-879c-130afbd8ef85",
   "metadata": {},
   "source": [
    "# Step 3 - Copy Data from Source to Target\n",
    "### You can restart lakeFS services after copying the data from source to target"
   ]
  },
  {
   "cell_type": "code",
   "execution_count": null,
   "id": "615d829f-7da6-44ba-b953-f4ff042d3db8",
   "metadata": {},
   "outputs": [],
   "source": [
    "azureCopyCommand = \"azcopy copy '\" + source_storage_namespace + \"/*?\" + source_container_SAS_token + \"' '\" + target_storage_namespace + \"?\" + target_container_SAS_token + \"' --recursive\"\n",
    "print(azureCopyCommand)\n",
    "\n",
    "! $azureCopyCommand"
   ]
  },
  {
   "cell_type": "markdown",
   "id": "20314a68-533e-45f3-bd09-ac6be17a34cc",
   "metadata": {},
   "source": [
    "## Step 4 - Create Target Bare Repository\n",
    "\n",
    "#### IMPORTANT: For Backup & Restore process, run this step only when you want to restore the repository"
   ]
  },
  {
   "cell_type": "code",
   "execution_count": null,
   "id": "29e91a48-6601-45d4-a8aa-6c5de808d208",
   "metadata": {},
   "outputs": [],
   "source": [
    "lakefs.Repository(target_repo_name, client=target_lakefs_client).create(storage_namespace=f\"{target_storage_namespace}\", default_branch=source_main_branch, bare=True)"
   ]
  },
  {
   "cell_type": "markdown",
   "id": "95570b12-b39d-41d7-852c-f09dc4b05bdf",
   "metadata": {},
   "source": [
    "## Step 5 - Restore Metadata to Target Repository\n",
    "\n",
    "#### IMPORTANT: For Backup & Restore process, run this step only when you want to restore the repository"
   ]
  },
  {
   "cell_type": "markdown",
   "id": "bbd2617d-8605-43f6-b8cd-b9d6c5cb039c",
   "metadata": {},
   "source": [
    "### Download metadata(refs_manifest.json) file created by \"Step 2\""
   ]
  },
  {
   "cell_type": "code",
   "execution_count": null,
   "id": "d61ff81e-3809-4351-b695-0d42a7de74dd",
   "metadata": {},
   "outputs": [],
   "source": [
    "azureDownloadRefsManifestFileCommand = \"azcopy copy '\" + target_storage_namespace + \"/_lakefs/refs_manifest.json?\" + target_container_SAS_token + \"' .\"\n",
    "\n",
    "! $azureDownloadRefsManifestFileCommand"
   ]
  },
  {
   "cell_type": "markdown",
   "id": "b520223e-8c7b-495b-b611-5a2ecd0f32a4",
   "metadata": {},
   "source": [
    "### Read refs_manifest.json file and restore metadata to new repository"
   ]
  },
  {
   "cell_type": "code",
   "execution_count": null,
   "id": "44e850ef-3126-4aec-9000-3a915892c329",
   "metadata": {},
   "outputs": [],
   "source": [
    "with open('./refs_manifest.json') as file:\n",
    "    refs_manifest_json = json.load(file)\n",
    "    print(refs_manifest_json)\n",
    "    \n",
    "target_lakefs_sdk_client.internal_api.restore_refs(target_repo_name, refs_manifest_json)"
   ]
  },
  {
   "cell_type": "markdown",
   "id": "99b1304e-e4db-4d08-9662-c8d4547c3269",
   "metadata": {},
   "source": [
    "## More Questions?\n",
    "\n",
    "###### Join the lakeFS Slack group - https://lakefs.io/slack"
   ]
  }
 ],
 "metadata": {
  "kernelspec": {
   "display_name": "Python 3 (ipykernel)",
   "language": "python",
   "name": "python3"
  },
  "language_info": {
   "codemirror_mode": {
    "name": "ipython",
    "version": 3
   },
   "file_extension": ".py",
   "mimetype": "text/x-python",
   "name": "python",
   "nbconvert_exporter": "python",
   "pygments_lexer": "ipython3",
   "version": "3.10.4"
  }
 },
 "nbformat": 4,
 "nbformat_minor": 5
}
