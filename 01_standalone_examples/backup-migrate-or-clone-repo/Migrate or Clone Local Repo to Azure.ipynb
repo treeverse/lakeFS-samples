{
 "cells": [
  {
   "cell_type": "markdown",
   "id": "c4e81663-80e6-4d27-b5d8-788660b20453",
   "metadata": {},
   "source": [
    "# Migrate or clone a local lakeFS repository to Azure\n",
    "\n",
    "#### Use this notebook if you want to migrate/clone a local source repository to a target repository on Azure"
   ]
  },
  {
   "cell_type": "markdown",
   "id": "70041e78-71fc-4222-84eb-adb47f2fec33",
   "metadata": {},
   "source": [
    "## Prerequisites\n",
    "\n",
    "#### 1. Source and a target lakeFS environments (you can [deploy one independently](https://docs.lakefs.io/deploy/) or use the hosted solution [lakeFS Cloud](https://lakefs.cloud))\n",
    "#### 2. Source repository\n",
    "#### 3. Storage Container for target repository but don't create target repository ahead of time (you will create a target repo in this notebook)"
   ]
  },
  {
   "cell_type": "markdown",
   "id": "a7a39a3a-c7d8-4f56-a56e-b7f67de561ca",
   "metadata": {},
   "source": [
    "## Setup Task: Import required Python packages"
   ]
  },
  {
   "cell_type": "code",
   "execution_count": null,
   "id": "c8fb6261-08b1-4daa-8866-e417f3b1f302",
   "metadata": {},
   "outputs": [],
   "source": [
    "%xmode Minimal\n",
    "import lakefs\n",
    "from lakefs.client import Client\n",
    "import lakefs_sdk\n",
    "from lakefs_sdk.client import LakeFSClient\n",
    "import random\n",
    "import os\n",
    "import datetime\n",
    "import json"
   ]
  },
  {
   "cell_type": "markdown",
   "id": "95cf9ca3-5044-4dc1-90ac-09eb6b1b869c",
   "metadata": {},
   "source": [
    "## Setup Task: Change your lakeFS credentials for the local source lakeFS environment"
   ]
  },
  {
   "cell_type": "code",
   "execution_count": null,
   "id": "5483a303-964d-4555-b7df-680adc52d8b7",
   "metadata": {},
   "outputs": [],
   "source": [
    "sourceLakefsEndPoint = '<Source lakeFS Endpoint URL>' # e.g. 'http://host.docker.internal:8000' if you are running lakeFS in a separate Docker container on your local machine\n",
    "sourceLakefsAccessKey = '<Source lakeFS Access Key>'\n",
    "sourceLakefsSecretKey = '<Source lakeFS Secret Key>'"
   ]
  },
  {
   "cell_type": "markdown",
   "id": "a51da4f5-2943-4a00-a412-5a1955317a6f",
   "metadata": {},
   "source": [
    "## Setup Task: Change your lakeFS credentials for the target lakeFS environment"
   ]
  },
  {
   "cell_type": "code",
   "execution_count": null,
   "id": "23f11814-70b4-4a19-adf4-a62306b1c5c1",
   "metadata": {},
   "outputs": [],
   "source": [
    "targetLakefsEndPoint = '<Target lakeFS Endpoint URL>' # e.g. 'https://username.azure_region_name.lakefscloud.io'\n",
    "targetLakefsAccessKey = '<Target lakeFS Access Key>'\n",
    "targetLakefsSecretKey = '<Target lakeFS Secret Key>'"
   ]
  },
  {
   "cell_type": "markdown",
   "id": "21ae19fa-acd8-4aa0-af93-cdd9bed56487",
   "metadata": {},
   "source": [
    "## Setup Task: Change lakeFS repo names"
   ]
  },
  {
   "cell_type": "code",
   "execution_count": null,
   "id": "4518a8fc-e5e9-42ec-a0b7-5a000833029c",
   "metadata": {},
   "outputs": [],
   "source": [
    "source_repo_name = \"source-repo\"\n",
    "target_repo_name = \"target-repo\""
   ]
  },
  {
   "cell_type": "markdown",
   "id": "a4403f62-8e4e-4a85-8090-241ec0ca9bbd",
   "metadata": {},
   "source": [
    "## Setup Task: Change main/production branch name for the source repo"
   ]
  },
  {
   "cell_type": "code",
   "execution_count": null,
   "id": "de7fd2cf-6183-48da-b400-e45df9c3fc33",
   "metadata": {},
   "outputs": [],
   "source": [
    "source_main_branch = \"main\""
   ]
  },
  {
   "cell_type": "markdown",
   "id": "7609ccaa-3223-4768-8b30-2f41fc3016d3",
   "metadata": {},
   "source": [
    "## Setup Task: Change source and target storage namespace"
   ]
  },
  {
   "cell_type": "code",
   "execution_count": null,
   "id": "c62890e3-c927-4ee8-badd-d8fd3e1cdc84",
   "metadata": {},
   "outputs": [],
   "source": [
    "source_storage_namespace = 'local://localSourceFolder' # storage namespace for the local source repo\n",
    "target_storage_namespace = 'https://target-storage-account-name.blob.core.windows.net/targetContainer'  # Change target Azure Storage Account Name and target Container Name"
   ]
  },
  {
   "cell_type": "markdown",
   "id": "837b00ea-de09-4200-8df1-5fdc7a8e64fd",
   "metadata": {},
   "source": [
    "## Setup Task: Change SAS Token for target storage container\n",
    "\n",
    "#### You will copy data from local source to the target Storage Container by using the [azcopy](https://learn.microsoft.com/en-us/azure/storage/common/storage-use-azcopy-v10?toc=%2Fazure%2Fstorage%2Fblobs%2Ftoc.json&bc=%2Fazure%2Fstorage%2Fblobs%2Fbreadcrumb%2Ftoc.json) software (which is pre-installed in this container) and you will use Shared Access Signatures (SAS) token to [Authorize azcopy](https://learn.microsoft.com/en-us/azure/storage/common/storage-use-azcopy-v10?toc=%2Fazure%2Fstorage%2Fblobs%2Ftoc.json&bc=%2Fazure%2Fstorage%2Fblobs%2Fbreadcrumb%2Ftoc.json#authorize-azcopy).\n",
    "\n",
    "#### Use this document to [Create SAS token for your target storage container](https://learn.microsoft.com/en-us/azure/cognitive-services/translator/document-translation/how-to-guides/create-sas-tokens?tabs=Containers). Select \"Write\" permission while creating SAS Token."
   ]
  },
  {
   "cell_type": "code",
   "execution_count": null,
   "id": "8fa33e19-8e8a-4371-bc67-db4a05dcb999",
   "metadata": {},
   "outputs": [],
   "source": [
    "target_container_SAS_token = 'target_container_SAS_token'"
   ]
  },
  {
   "cell_type": "markdown",
   "id": "42a55daa-fe3c-47ed-b353-e7cd26dc5f57",
   "metadata": {},
   "source": [
    "## Setup Task: Create lakeFS Python client for source lakeFS environment"
   ]
  },
  {
   "cell_type": "code",
   "execution_count": null,
   "id": "25ceb3de-d811-41fa-b117-ce6e15de293a",
   "metadata": {},
   "outputs": [],
   "source": [
    "if not 'source_lakefs_client' in locals():\n",
    "    source_lakefs_client = Client(\n",
    "        host=sourceLakefsEndPoint,\n",
    "        username=sourceLakefsAccessKey,\n",
    "        password=sourceLakefsSecretKey,\n",
    "    )\n",
    "    \n",
    "    configuration = lakefs_sdk.Configuration(\n",
    "        host=sourceLakefsEndPoint,\n",
    "        username=sourceLakefsAccessKey,\n",
    "        password=sourceLakefsSecretKey,\n",
    "    )\n",
    "    source_lakefs_sdk_client = LakeFSClient(configuration)\n",
    "    \n",
    "    print(\"Verifying lakeFS credentials…\")\n",
    "    try:\n",
    "        v=source_lakefs_client.version\n",
    "        sourceRepo = lakefs.Repository(source_repo_name, client=source_lakefs_client)\n",
    "    except:\n",
    "        print(\"🛑 failed to get lakeFS version\")\n",
    "    else:\n",
    "        print(f\"…✅lakeFS credentials verified\\n\\nℹ️lakeFS version {v}\")"
   ]
  },
  {
   "cell_type": "markdown",
   "id": "e1e05564-131f-4a90-81ca-16dfa1fc2ec4",
   "metadata": {},
   "source": [
    "## Setup Task: Create lakeFS Python client for target lakeFS environment"
   ]
  },
  {
   "cell_type": "code",
   "execution_count": null,
   "id": "b9ffe9b2-5c84-4637-bde6-5ebf40e49d10",
   "metadata": {},
   "outputs": [],
   "source": [
    "if not 'target_lakefs_client' in locals():\n",
    "    target_lakefs_client = Client(\n",
    "        host=targetLakefsEndPoint,\n",
    "        username=targetLakefsAccessKey,\n",
    "        password=targetLakefsSecretKey,\n",
    "    )\n",
    "    \n",
    "    configuration = lakefs_sdk.Configuration(\n",
    "        host=targetLakefsEndPoint,\n",
    "        username=targetLakefsAccessKey,\n",
    "        password=targetLakefsSecretKey,\n",
    "    )\n",
    "    target_lakefs_sdk_client = LakeFSClient(configuration)\n",
    "    \n",
    "    print(\"Verifying lakeFS credentials…\")\n",
    "    try:\n",
    "        v=target_lakefs_client.version\n",
    "    except:\n",
    "        print(\"🛑 failed to get lakeFS version\")\n",
    "    else:\n",
    "        print(f\"…✅lakeFS credentials verified\\n\\nℹ️lakeFS version {v}\")"
   ]
  },
  {
   "cell_type": "markdown",
   "id": "8277d49c-570d-4ade-a976-952ce92e4451",
   "metadata": {},
   "source": [
    "# Step 1 - Commit Changes"
   ]
  },
  {
   "cell_type": "markdown",
   "id": "f35130b5-ef88-44c4-a90b-3969784c3259",
   "metadata": {},
   "source": [
    "## IMPORTANT: Uncommitted data is not migrated over so check uncommitted data (this might take time if you have many branches in the source repo)"
   ]
  },
  {
   "cell_type": "code",
   "execution_count": null,
   "id": "37ff37f6-0915-42aa-b8f7-b89bff042240",
   "metadata": {},
   "outputs": [],
   "source": [
    "for branchList in sourceRepo.branches():\n",
    "    for diff in sourceRepo.branch(branchList.id).uncommitted():\n",
    "        print('Branch with uncommitted data: ' + branchList.id)\n",
    "        break"
   ]
  },
  {
   "cell_type": "markdown",
   "id": "5129aa0d-9f90-4f38-a2a9-f0111a15bcc1",
   "metadata": {},
   "source": [
    "## OPTIONAL: Commit any uncommitted data in your source repo (this might take time if you have many branches in the source repo)\n",
    "#### If you want, you can manually commit the changes for the branches listed above from the lakeFS UI\n",
    "\n",
    "#### You can run previous command again after finishing this to verify that there are not any uncommitted data any more"
   ]
  },
  {
   "cell_type": "code",
   "execution_count": null,
   "id": "3059fc2d-596b-44c2-8401-2b05da5c517b",
   "metadata": {},
   "outputs": [],
   "source": [
    "for branchList in sourceRepo.branches():\n",
    "    for diff in sourceRepo.branch(branchList.id).uncommitted():\n",
    "        ref = sourceRepo.branch(branchList.id).commit(message='Committed changes during the migration of the repository')\n",
    "        print(ref.get_commit())\n",
    "        break"
   ]
  },
  {
   "cell_type": "markdown",
   "id": "dc52914e-6ee2-4bf6-99b4-4e254ad38133",
   "metadata": {},
   "source": [
    "# Step 2 - Dump Metadata of Source Repository\n",
    "### IMPORTANT: Shutdown lakeFS services immediately after dumping the metadata so nobody can make any changes in the source repository"
   ]
  },
  {
   "cell_type": "code",
   "execution_count": null,
   "id": "181b79ba-dc92-4a42-8881-498e7ac35e26",
   "metadata": {},
   "outputs": [],
   "source": [
    "source_lakefs_sdk_client.internal_api.dump_refs(source_repo_name)"
   ]
  },
  {
   "cell_type": "markdown",
   "id": "e789b515-2333-4d45-879c-130afbd8ef85",
   "metadata": {},
   "source": [
    "# Step 3 - Copy Data from Source to Target"
   ]
  },
  {
   "cell_type": "markdown",
   "id": "91439b73-c110-4a5b-9095-6a63bdf6f629",
   "metadata": {},
   "source": [
    "#### You can directly copy data from local storage to target storage container on your own\n",
    "#### or you can run following printed command on your local machine to copy data from local Docker container to local machine first\n",
    "#### (change the Docker container name for lakeFS and go to the folder where you cloned lakefs-samples Git repo before running the command)\n",
    "\n",
    "#### You can restart lakeFS services after copying the data from source to target"
   ]
  },
  {
   "cell_type": "code",
   "execution_count": null,
   "id": "ac78cb8a-bf20-4b25-8ea4-ee1629506f51",
   "metadata": {},
   "outputs": [],
   "source": [
    "lakefs_docker_container_name = 'lakefs'\n",
    "print('docker cp ' + lakefs_docker_container_name + ':/home/lakefs/lakefs/data/block/' + source_storage_namespace.split('://')[1] + \\\n",
    "      '/ lakeFS-samples/01_standalone_examples/migrate-or-clone-repo/localDownloadedSourceFolder/')"
   ]
  },
  {
   "cell_type": "markdown",
   "id": "92ab2960-a904-41ec-b3bc-e896408e4321",
   "metadata": {},
   "source": [
    "#### Now copy data from your local machine to target storage container on Azure"
   ]
  },
  {
   "cell_type": "code",
   "execution_count": null,
   "id": "571ceb64-2d63-4ced-87c1-f9aff067a562",
   "metadata": {},
   "outputs": [],
   "source": [
    "azureCopyCommand = \"cd localDownloadedSourceFolder && azcopy copy '*' '\" + target_storage_namespace + \"?\" + target_container_SAS_token + \"' --recursive\"\n",
    "print(azureCopyCommand)\n",
    "\n",
    "! $azureCopyCommand"
   ]
  },
  {
   "cell_type": "markdown",
   "id": "20314a68-533e-45f3-bd09-ac6be17a34cc",
   "metadata": {},
   "source": [
    "## Step 4 - Create Target Bare Repository"
   ]
  },
  {
   "cell_type": "code",
   "execution_count": null,
   "id": "29e91a48-6601-45d4-a8aa-6c5de808d208",
   "metadata": {},
   "outputs": [],
   "source": [
    "lakefs.Repository(target_repo_name, client=target_lakefs_client).create(storage_namespace=f\"{target_storage_namespace}\", default_branch=source_main_branch, bare=True)"
   ]
  },
  {
   "cell_type": "markdown",
   "id": "95570b12-b39d-41d7-852c-f09dc4b05bdf",
   "metadata": {},
   "source": [
    "## Step 5 - Restore Metadata to Target Repository"
   ]
  },
  {
   "cell_type": "markdown",
   "id": "b2ae630f-9440-4bba-9977-1d26f147fdb1",
   "metadata": {},
   "source": [
    "### Download metadata(refs_manifest.json) file created by \"Step 2\""
   ]
  },
  {
   "cell_type": "code",
   "execution_count": null,
   "id": "af086889-2e99-4c55-98b4-16d564e74fc4",
   "metadata": {},
   "outputs": [],
   "source": [
    "azureDownloadRefsManifestFileCommand = \"azcopy copy '\" + target_storage_namespace + \"/_lakefs/refs_manifest.json?\" + target_container_SAS_token + \"' .\"\n",
    "\n",
    "! $azureDownloadRefsManifestFileCommand"
   ]
  },
  {
   "cell_type": "markdown",
   "id": "0b18c28a-3f62-4a20-a6a7-57c514e654b7",
   "metadata": {},
   "source": [
    "### Read refs_manifest.json file and restore metadata to new repository"
   ]
  },
  {
   "cell_type": "code",
   "execution_count": null,
   "id": "9bf070b2-47a4-4c7e-95b8-5d83e36d674d",
   "metadata": {},
   "outputs": [],
   "source": [
    "with open('./refs_manifest.json') as file:\n",
    "    refs_manifest_json = json.load(file)\n",
    "    print(refs_manifest_json)\n",
    "    \n",
    "target_lakefs_sdk_client.internal_api.restore_refs(target_repo_name, refs_manifest_json)"
   ]
  },
  {
   "cell_type": "markdown",
   "id": "99b1304e-e4db-4d08-9662-c8d4547c3269",
   "metadata": {},
   "source": [
    "## More Questions?\n",
    "\n",
    "###### Join the lakeFS Slack group - https://lakefs.io/slack"
   ]
  }
 ],
 "metadata": {
  "kernelspec": {
   "display_name": "Python 3 (ipykernel)",
   "language": "python",
   "name": "python3"
  },
  "language_info": {
   "codemirror_mode": {
    "name": "ipython",
    "version": 3
   },
   "file_extension": ".py",
   "mimetype": "text/x-python",
   "name": "python",
   "nbconvert_exporter": "python",
   "pygments_lexer": "ipython3",
   "version": "3.10.4"
  }
 },
 "nbformat": 4,
 "nbformat_minor": 5
}
