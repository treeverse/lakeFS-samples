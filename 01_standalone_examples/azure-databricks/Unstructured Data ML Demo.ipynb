{
 "cells": [
  {
   "cell_type": "markdown",
   "metadata": {
    "application/vnd.databricks.v1+cell": {
     "cellMetadata": {},
     "inputWidgets": {},
     "nuid": "55e23ec6-15f6-47e5-9e77-9d89d0fbd26f",
     "showTitle": false,
     "title": ""
    }
   },
   "source": [
    "# Isolated Reproducible Unstructured Datasets for ML"
   ]
  },
  {
   "cell_type": "markdown",
   "metadata": {
    "application/vnd.databricks.v1+cell": {
     "cellMetadata": {},
     "inputWidgets": {},
     "nuid": "3ceb066b-464a-4292-8a3c-433c5898b523",
     "showTitle": false,
     "title": ""
    }
   },
   "source": [
    "### Prerequisites\n",
    "\n",
    "####### This Notebook requires connecting to a lakeFS Server. \n",
    "####### To spin up lakeFS quickly - use the [lakeFS Cloud](https://lakefs.cloud) which provides lakeFS server on-demand with a single click; \n",
    "####### Or, alternatively, refer to [lakeFS Quickstart doc](https://docs.lakefs.io/quickstart/installing.html)."
   ]
  },
  {
   "cell_type": "markdown",
   "metadata": {
    "application/vnd.databricks.v1+cell": {
     "cellMetadata": {},
     "inputWidgets": {},
     "nuid": "587719a9-2504-49a7-8fee-29b4a89c4a66",
     "showTitle": false,
     "title": ""
    }
   },
   "source": [
    "## Setup Task: Download Images and Annotations datasets used for this demo and upload to a storage container: [http://vision.stanford.edu/aditya86/ImageNetDogs/](http://vision.stanford.edu/aditya86/ImageNetDogs/)\n",
    "#### Change storage-account-name and sample-dog-images-container-name"
   ]
  },
  {
   "cell_type": "code",
   "execution_count": 0,
   "metadata": {
    "application/vnd.databricks.v1+cell": {
     "cellMetadata": {
      "byteLimit": 2048000,
      "rowLimit": 10000
     },
     "inputWidgets": {},
     "nuid": "83434ec3-7b28-4efb-be22-2988d8f257ba",
     "showTitle": false,
     "title": ""
    }
   },
   "outputs": [],
   "source": [
    "containerURL = 'https://storage-account-name.adls.core.windows.net/sample-dog-images-container-name'"
   ]
  },
  {
   "cell_type": "markdown",
   "metadata": {
    "application/vnd.databricks.v1+cell": {
     "cellMetadata": {},
     "inputWidgets": {},
     "nuid": "64a1df50-d886-4349-8841-437a089c79ed",
     "showTitle": false,
     "title": ""
    }
   },
   "source": [
    "## Setup Task: Download [changed Images and Annotations datasets](https://github.com/treeverse/lakeFS-samples/tree/main/01_standalone_examples/azure-databricks/data/stanforddogsdataset/changed) and upload to a different storage container.\n",
    "#### Change storage-account-name and sample-dog-images-changed-container-name"
   ]
  },
  {
   "cell_type": "code",
   "execution_count": 0,
   "metadata": {
    "application/vnd.databricks.v1+cell": {
     "cellMetadata": {
      "byteLimit": 2048000,
      "rowLimit": 10000
     },
     "inputWidgets": {},
     "nuid": "8f55fbdc-f813-4615-b4cf-dc6bd0be298c",
     "showTitle": false,
     "title": ""
    }
   },
   "outputs": [],
   "source": [
    "containerURLforChangedData = 'https://storage-account-name.adls.core.windows.net/sample-dog-images-changed-container-name'"
   ]
  },
  {
   "cell_type": "markdown",
   "metadata": {
    "application/vnd.databricks.v1+cell": {
     "cellMetadata": {},
     "inputWidgets": {},
     "nuid": "a27ff889-b943-4ac4-af19-d8543bc60903",
     "showTitle": false,
     "title": ""
    }
   },
   "source": [
    "## Setup Task: Change your lakeFS credentials"
   ]
  },
  {
   "cell_type": "code",
   "execution_count": 0,
   "metadata": {
    "application/vnd.databricks.v1+cell": {
     "cellMetadata": {
      "byteLimit": 2048000,
      "rowLimit": 10000
     },
     "inputWidgets": {},
     "nuid": "29f64ec6-66da-4f1a-a5bc-1542144937aa",
     "showTitle": false,
     "title": ""
    }
   },
   "outputs": [],
   "source": [
    "lakefsEndPoint = 'https://YourEndPoint/' # e.g. 'https://username.azure_region_name.lakefscloud.io'\n",
    "lakefsAccessKey = 'AKIAlakeFSAccessKey'\n",
    "lakefsSecretKey = 'lakeFSSecretKey'"
   ]
  },
  {
   "cell_type": "markdown",
   "metadata": {
    "application/vnd.databricks.v1+cell": {
     "cellMetadata": {},
     "inputWidgets": {},
     "nuid": "9f0302ae-bd36-48dc-abe2-3e7e8c995ca5",
     "showTitle": false,
     "title": ""
    }
   },
   "source": [
    "## Setup Task: You can change lakeFS repo name"
   ]
  },
  {
   "cell_type": "code",
   "execution_count": 0,
   "metadata": {
    "application/vnd.databricks.v1+cell": {
     "cellMetadata": {
      "byteLimit": 2048000,
      "rowLimit": 10000
     },
     "inputWidgets": {},
     "nuid": "0f83548d-b7ee-4451-b384-a09f76eb94c1",
     "showTitle": false,
     "title": ""
    }
   },
   "outputs": [],
   "source": [
    "repo_name = \"images-repo\""
   ]
  },
  {
   "cell_type": "markdown",
   "metadata": {
    "application/vnd.databricks.v1+cell": {
     "cellMetadata": {},
     "inputWidgets": {},
     "nuid": "ccdd4fb0-0045-4461-b532-1523d32fc6fe",
     "showTitle": false,
     "title": ""
    }
   },
   "source": [
    "## Setup Task: Storage Information\n",
    "#### Change the Storage Namespace to a location you’ve configured. The storage namespace is a location in the underlying storage where data for this repository will be stored."
   ]
  },
  {
   "cell_type": "code",
   "execution_count": 0,
   "metadata": {
    "application/vnd.databricks.v1+cell": {
     "cellMetadata": {
      "byteLimit": 2048000,
      "rowLimit": 10000
     },
     "inputWidgets": {},
     "nuid": "f587a25d-dade-46fd-bfa1-6b7f27c99b26",
     "showTitle": false,
     "title": ""
    }
   },
   "outputs": [],
   "source": [
    "import random\n",
    "storageNamespace = 'https://storage-account-name.blob.core.windows.net/storage-container-name/'+repo_name+'/'+str(random.randint(1,100000000))"
   ]
  },
  {
   "cell_type": "markdown",
   "metadata": {
    "application/vnd.databricks.v1+cell": {
     "cellMetadata": {},
     "inputWidgets": {},
     "nuid": "d09d76ca-48c6-45b2-8cf6-53f4cd7b1429",
     "showTitle": false,
     "title": ""
    }
   },
   "source": [
    "## Define variables"
   ]
  },
  {
   "cell_type": "code",
   "execution_count": 0,
   "metadata": {
    "application/vnd.databricks.v1+cell": {
     "cellMetadata": {
      "byteLimit": 2048000,
      "rowLimit": 10000
     },
     "inputWidgets": {},
     "nuid": "d627bbb6-39dc-4617-bb78-4754fb281e3d",
     "showTitle": false,
     "title": ""
    }
   },
   "outputs": [],
   "source": [
    "mainBranch = \"main\"\n",
    "emptyBranch = \"empty\"\n",
    "AnnotationsFolderName = \"Annotations\"\n",
    "ImagesFolderName = \"Images\"\n",
    "\n",
    "AfghanHoundSourcePath = \"n02088094-Afghan_hound\"\n",
    "AfghanHoundFileName = \"n02088094-Afghan_hound/n02088094_115.jpg\"\n",
    "WalkerHoundSourcePath = \"n02089867-Walker_hound\"\n",
    "WalkerHoundFileName = \"n02089867-Walker_hound/n02089867_24.jpg\""
   ]
  },
  {
   "cell_type": "markdown",
   "metadata": {
    "application/vnd.databricks.v1+cell": {
     "cellMetadata": {},
     "inputWidgets": {},
     "nuid": "4f6a9de9-acd9-47b3-9130-caf6c8983ba3",
     "showTitle": false,
     "title": ""
    }
   },
   "source": [
    "## Setup Task: Run additional [Setup](./?o=8911673420610391#notebook/634747576127085) tasks here"
   ]
  },
  {
   "cell_type": "code",
   "execution_count": 0,
   "metadata": {
    "application/vnd.databricks.v1+cell": {
     "cellMetadata": {
      "byteLimit": 2048000,
      "rowLimit": 10000
     },
     "inputWidgets": {},
     "nuid": "37495c43-8dcf-4fb2-9494-b8f1d49ac109",
     "showTitle": false,
     "title": ""
    }
   },
   "outputs": [],
   "source": [
    "%run ./unstructuredDataMLDemoSetup"
   ]
  },
  {
   "cell_type": "markdown",
   "metadata": {
    "application/vnd.databricks.v1+cell": {
     "cellMetadata": {},
     "inputWidgets": {},
     "nuid": "418cb3d8-fe33-4439-8761-28ba3fb8bda6",
     "showTitle": false,
     "title": ""
    }
   },
   "source": [
    "## Setup Task: Import Images and Annotations datasets to lakeFS repository"
   ]
  },
  {
   "cell_type": "code",
   "execution_count": 0,
   "metadata": {
    "application/vnd.databricks.v1+cell": {
     "cellMetadata": {
      "byteLimit": 2048000,
      "rowLimit": 10000
     },
     "inputWidgets": {},
     "nuid": "c5bb9957-75b8-42d9-8a03-494626327c7f",
     "showTitle": false,
     "title": ""
    }
   },
   "outputs": [],
   "source": [
    "commitMessage='Imported all annotations and images'\n",
    "commitMetadata={'version': '1.0'}\n",
    "\n",
    "importer = branchMain.import_data(commit_message=commitMessage, metadata=commitMetadata)\n",
    "importer.prefix(object_store_uri=containerURL, destination=\"\")\n",
    "\n",
    "import_objects(mainBranch, importer)"
   ]
  },
  {
   "cell_type": "markdown",
   "metadata": {
    "application/vnd.databricks.v1+cell": {
     "cellMetadata": {},
     "inputWidgets": {},
     "nuid": "018d8dc8-cd9a-4de7-919b-1ed827f5736c",
     "showTitle": false,
     "title": ""
    }
   },
   "source": [
    "# Project Starts"
   ]
  },
  {
   "cell_type": "markdown",
   "metadata": {
    "application/vnd.databricks.v1+cell": {
     "cellMetadata": {},
     "inputWidgets": {},
     "nuid": "82d57784-39df-4815-8625-89820e433ad6",
     "showTitle": false,
     "title": ""
    }
   },
   "source": [
    "## Project label and version information"
   ]
  },
  {
   "cell_type": "code",
   "execution_count": 0,
   "metadata": {
    "application/vnd.databricks.v1+cell": {
     "cellMetadata": {
      "byteLimit": 2048000,
      "rowLimit": 10000
     },
     "inputWidgets": {},
     "nuid": "54ba80db-3f5c-47a6-a66e-e1b94ffc5b80",
     "showTitle": false,
     "title": ""
    }
   },
   "outputs": [],
   "source": [
    "classLabel = \"_hound\"\n",
    "version = \"v1\""
   ]
  },
  {
   "cell_type": "markdown",
   "metadata": {
    "application/vnd.databricks.v1+cell": {
     "cellMetadata": {},
     "inputWidgets": {},
     "nuid": "6e960542-3d48-4c68-b72f-f01e1bc835b6",
     "showTitle": false,
     "title": ""
    }
   },
   "source": [
    "## Create empty Project v1 branch"
   ]
  },
  {
   "cell_type": "code",
   "execution_count": 0,
   "metadata": {
    "application/vnd.databricks.v1+cell": {
     "cellMetadata": {
      "byteLimit": 2048000,
      "rowLimit": 10000
     },
     "inputWidgets": {},
     "nuid": "db4b04dd-3d91-4696-a62f-a091a839ce1d",
     "showTitle": false,
     "title": ""
    }
   },
   "outputs": [],
   "source": [
    "projectBranchV1 = \"project\"+classLabel+\"_\"+version\n",
    "branchProjectV1 = repo.branch(projectBranchV1).create(source_reference=emptyBranch, exist_ok=True)"
   ]
  },
  {
   "cell_type": "markdown",
   "metadata": {
    "application/vnd.databricks.v1+cell": {
     "cellMetadata": {},
     "inputWidgets": {},
     "nuid": "946fe7e8-8588-49a3-9687-cf027985e60d",
     "showTitle": false,
     "title": ""
    }
   },
   "source": [
    "## Get list of all Annotation folders"
   ]
  },
  {
   "cell_type": "code",
   "execution_count": 0,
   "metadata": {
    "application/vnd.databricks.v1+cell": {
     "cellMetadata": {
      "byteLimit": 2048000,
      "rowLimit": 10000
     },
     "inputWidgets": {},
     "nuid": "d5c6cde1-6152-4d24-847e-7d73278e1b7c",
     "showTitle": false,
     "title": ""
    }
   },
   "outputs": [],
   "source": [
    "AnnotationsFolders = branchMain.objects(\n",
    "    prefix=AnnotationsFolderName+'/',\n",
    "    delimiter='/')"
   ]
  },
  {
   "cell_type": "markdown",
   "metadata": {
    "application/vnd.databricks.v1+cell": {
     "cellMetadata": {},
     "inputWidgets": {},
     "nuid": "ca1c52ba-1300-4d39-ac98-10ba0c452e75",
     "showTitle": false,
     "title": ""
    }
   },
   "source": [
    "## Import all annotation and images for a particular class label"
   ]
  },
  {
   "cell_type": "code",
   "execution_count": 0,
   "metadata": {
    "application/vnd.databricks.v1+cell": {
     "cellMetadata": {
      "byteLimit": 2048000,
      "rowLimit": 10000
     },
     "inputWidgets": {},
     "nuid": "55bfef99-01bf-41e1-8831-21218daa8d57",
     "showTitle": false,
     "title": ""
    }
   },
   "outputs": [],
   "source": [
    "commitMessage='Imported annotation and images for class label ending with '+classLabel\n",
    "commitMetadata={'classLabel': classLabel,'version': version}\n",
    "\n",
    "importer = branchProjectV1.import_data(commit_message=commitMessage, metadata=commitMetadata)\n",
    "\n",
    "for AnnotationsFolder in AnnotationsFolders:\n",
    "    # If folder name ends with classLabel\n",
    "    if AnnotationsFolder.path.endswith(classLabel+'/'):\n",
    "        print(\"Importing annotation and images in folder: \" + AnnotationsFolder.path)\n",
    "                                         \n",
    "        importer.prefix(object_store_uri=containerURL+'/'+AnnotationsFolder.path, destination=AnnotationsFolder.path)\n",
    "        importer.prefix(object_store_uri=containerURL+'/'+AnnotationsFolder.path.replace(AnnotationsFolderName, ImagesFolderName),\n",
    "                        destination=AnnotationsFolder.path.replace(AnnotationsFolderName, ImagesFolderName))\n",
    "\n",
    "import_objects(projectBranchV1, importer)"
   ]
  },
  {
   "cell_type": "markdown",
   "metadata": {
    "application/vnd.databricks.v1+cell": {
     "cellMetadata": {},
     "inputWidgets": {},
     "nuid": "2f37ec0d-e29a-475b-9749-fdbe934022c3",
     "showTitle": false,
     "title": ""
    }
   },
   "source": [
    "## Some of images changed"
   ]
  },
  {
   "cell_type": "markdown",
   "metadata": {
    "application/vnd.databricks.v1+cell": {
     "cellMetadata": {},
     "inputWidgets": {},
     "nuid": "a548566a-3ba9-4408-bfbb-c834bdb7043c",
     "showTitle": false,
     "title": ""
    }
   },
   "source": [
    "## Changed images"
   ]
  },
  {
   "cell_type": "markdown",
   "metadata": {
    "application/vnd.databricks.v1+cell": {
     "cellMetadata": {},
     "inputWidgets": {},
     "nuid": "557e8b10-3155-4729-867f-c55f430e0f32",
     "showTitle": false,
     "title": ""
    }
   },
   "source": [
    "<img src=\"https://raw.githubusercontent.com/treeverse/lakeFS-samples/main/01_standalone_examples/azure-databricks/data/stanforddogsdataset/changed/Images/n02088094-Afghan_hound/n02088094_26.jpg\" width=150/>\n",
    "<img src=\"https://raw.githubusercontent.com/treeverse/lakeFS-samples/main/01_standalone_examples/azure-databricks/data/stanforddogsdataset/changed/Images/n02088094-Afghan_hound/n02088094_60.jpg\" width=330/>\n",
    "<img src=\"https://raw.githubusercontent.com/treeverse/lakeFS-samples/main/01_standalone_examples/azure-databricks/data/stanforddogsdataset/changed/Images/n02088094-Afghan_hound/n02088094_93.jpg\" width=310/>\n",
    "<img src=\"https://raw.githubusercontent.com/treeverse/lakeFS-samples/main/01_standalone_examples/azure-databricks/data/stanforddogsdataset/changed/Images/n02088094-Afghan_hound/n02088094_115.jpg\" width=310/>"
   ]
  },
  {
   "cell_type": "markdown",
   "metadata": {
    "application/vnd.databricks.v1+cell": {
     "cellMetadata": {},
     "inputWidgets": {},
     "nuid": "4938f948-d92d-46f6-92b9-1e5b3a525f8e",
     "showTitle": false,
     "title": ""
    }
   },
   "source": [
    "## Upload changed annotations and images"
   ]
  },
  {
   "cell_type": "code",
   "execution_count": 0,
   "metadata": {
    "application/vnd.databricks.v1+cell": {
     "cellMetadata": {
      "byteLimit": 2048000,
      "rowLimit": 10000
     },
     "inputWidgets": {},
     "nuid": "6e334a6f-da81-425a-8bae-dd2e745ebbe0",
     "showTitle": false,
     "title": ""
    }
   },
   "outputs": [],
   "source": [
    "commitMessage='Uploaded changed annotation and images for class label ending with '+classLabel+' and version '+version\n",
    "commitMetadata={'classLabel': classLabel, 'version': version}\n",
    "\n",
    "importer = branchProjectV1.import_data(commit_message=commitMessage, metadata=commitMetadata)\n",
    "importer.prefix(object_store_uri=containerURLforChangedData+'/'+AnnotationsFolderName+'/'+AfghanHoundSourcePath,\n",
    "                destination=AnnotationsFolderName)\n",
    "importer.prefix(object_store_uri=containerURLforChangedData+'/'+ImagesFolderName+'/'+AfghanHoundSourcePath,\n",
    "                        destination=ImagesFolderName)\n",
    "\n",
    "import_objects(projectBranchV1, importer)"
   ]
  },
  {
   "cell_type": "markdown",
   "metadata": {
    "application/vnd.databricks.v1+cell": {
     "cellMetadata": {},
     "inputWidgets": {},
     "nuid": "18308b4c-be8d-4930-9d9f-9fe7f128083d",
     "showTitle": false,
     "title": ""
    }
   },
   "source": [
    "## Get stats for image on main branch"
   ]
  },
  {
   "cell_type": "code",
   "execution_count": 0,
   "metadata": {
    "application/vnd.databricks.v1+cell": {
     "cellMetadata": {
      "byteLimit": 2048000,
      "rowLimit": 10000
     },
     "inputWidgets": {},
     "nuid": "b226513a-9aca-4785-a2fc-79789d56f8ac",
     "showTitle": false,
     "title": ""
    }
   },
   "outputs": [],
   "source": [
    "objects = branchMain.objects(\n",
    "    prefix=ImagesFolderName+'/'+AfghanHoundFileName)\n",
    "\n",
    "for object in objects:\n",
    "    print(object)"
   ]
  },
  {
   "cell_type": "markdown",
   "metadata": {
    "application/vnd.databricks.v1+cell": {
     "cellMetadata": {},
     "inputWidgets": {},
     "nuid": "0309436d-965f-42c8-b20a-89c099c28779",
     "showTitle": false,
     "title": ""
    }
   },
   "source": [
    "## Get stats for image on project branch"
   ]
  },
  {
   "cell_type": "code",
   "execution_count": 0,
   "metadata": {
    "application/vnd.databricks.v1+cell": {
     "cellMetadata": {
      "byteLimit": 2048000,
      "rowLimit": 10000
     },
     "inputWidgets": {},
     "nuid": "4813cbd1-68ee-4399-b204-16b996e39236",
     "showTitle": false,
     "title": ""
    }
   },
   "outputs": [],
   "source": [
    "objects = branchProjectV1.objects(\n",
    "    prefix=ImagesFolderName+'/'+AfghanHoundFileName)\n",
    "\n",
    "for object in objects:\n",
    "    print(object)"
   ]
  },
  {
   "cell_type": "markdown",
   "metadata": {
    "application/vnd.databricks.v1+cell": {
     "cellMetadata": {},
     "inputWidgets": {},
     "nuid": "447be178-db3d-4bba-82ca-357e8fcc1970",
     "showTitle": false,
     "title": ""
    }
   },
   "source": [
    "## Add v1 tag for future use. You can also run your model by using this tag."
   ]
  },
  {
   "cell_type": "code",
   "execution_count": 0,
   "metadata": {
    "application/vnd.databricks.v1+cell": {
     "cellMetadata": {
      "byteLimit": 2048000,
      "rowLimit": 10000
     },
     "inputWidgets": {},
     "nuid": "0505058c-5654-4ed9-8d5b-e62e9c4fdce0",
     "showTitle": false,
     "title": ""
    }
   },
   "outputs": [],
   "source": [
    "import datetime\n",
    "tagV1 = datetime.datetime.now().strftime(\"%Y_%m_%d\")+f\"_{projectBranchV1}\"\n",
    "\n",
    "lakefs.Tag(repository_id=repo_name, tag_id=tagV1, client=clt).create(projectBranchV1, exist_ok=True)"
   ]
  },
  {
   "cell_type": "markdown",
   "metadata": {
    "application/vnd.databricks.v1+cell": {
     "cellMetadata": {},
     "inputWidgets": {},
     "nuid": "bbafe0a3-bd06-4a61-9d4c-255d5e68240d",
     "showTitle": false,
     "title": ""
    }
   },
   "source": [
    "## Create Project v2 branch sourced from v1 branch"
   ]
  },
  {
   "cell_type": "code",
   "execution_count": 0,
   "metadata": {
    "application/vnd.databricks.v1+cell": {
     "cellMetadata": {
      "byteLimit": 2048000,
      "rowLimit": 10000
     },
     "inputWidgets": {},
     "nuid": "7c10b1ba-b83a-4506-abd2-f5c0c854fc76",
     "showTitle": false,
     "title": ""
    }
   },
   "outputs": [],
   "source": [
    "version = \"v2\""
   ]
  },
  {
   "cell_type": "code",
   "execution_count": 0,
   "metadata": {
    "application/vnd.databricks.v1+cell": {
     "cellMetadata": {
      "byteLimit": 2048000,
      "rowLimit": 10000
     },
     "inputWidgets": {},
     "nuid": "201974e3-b091-4ce9-b231-da9b9c5ea384",
     "showTitle": false,
     "title": ""
    }
   },
   "outputs": [],
   "source": [
    "projectBranchV2 = \"project\"+classLabel+\"_\"+version\n",
    "branchProjectV2 = repo.branch(projectBranchV2).create(source_reference=projectBranchV1, exist_ok=True)"
   ]
  },
  {
   "cell_type": "markdown",
   "metadata": {
    "application/vnd.databricks.v1+cell": {
     "cellMetadata": {},
     "inputWidgets": {},
     "nuid": "3730a830-66ce-43a2-a66d-f44a1865004e",
     "showTitle": false,
     "title": ""
    }
   },
   "source": [
    "## Some of images changed"
   ]
  },
  {
   "cell_type": "markdown",
   "metadata": {
    "application/vnd.databricks.v1+cell": {
     "cellMetadata": {},
     "inputWidgets": {},
     "nuid": "0f68d863-22c4-493d-8028-951005f1d6bb",
     "showTitle": false,
     "title": ""
    }
   },
   "source": [
    "## Changed images"
   ]
  },
  {
   "cell_type": "markdown",
   "metadata": {
    "application/vnd.databricks.v1+cell": {
     "cellMetadata": {},
     "inputWidgets": {},
     "nuid": "d11b1a2f-b0d7-4fba-859d-205380e1553f",
     "showTitle": false,
     "title": ""
    }
   },
   "source": [
    "<img src=\"https://raw.githubusercontent.com/treeverse/lakeFS-samples/main/01_standalone_examples/azure-databricks/data/stanforddogsdataset/changed/Images/n02089867-Walker_hound/n02089867_24.jpg\" width=150/>\n",
    "<img src=\"https://raw.githubusercontent.com/treeverse/lakeFS-samples/main/01_standalone_examples/azure-databricks/data/stanforddogsdataset/changed/Images/n02089867-Walker_hound/n02089867_31.jpg\" width=295/>\n",
    "<img src=\"https://raw.githubusercontent.com/treeverse/lakeFS-samples/main/01_standalone_examples/azure-databricks/data/stanforddogsdataset/changed/Images/n02089867-Walker_hound/n02089867_42.jpg\" width=295/>\n",
    "<img src=\"https://raw.githubusercontent.com/treeverse/lakeFS-samples/main/01_standalone_examples/azure-databricks/data/stanforddogsdataset/changed/Images/n02089867-Walker_hound/n02089867_55.jpg\" width=295/>\n",
    "<img src=\"https://raw.githubusercontent.com/treeverse/lakeFS-samples/main/01_standalone_examples/azure-databricks/data/stanforddogsdataset/changed/Images/n02089867-Walker_hound/n02089867_90.jpg\" width=295/>"
   ]
  },
  {
   "cell_type": "markdown",
   "metadata": {
    "application/vnd.databricks.v1+cell": {
     "cellMetadata": {},
     "inputWidgets": {},
     "nuid": "df7bba40-4d6c-4f58-8c50-260a49299904",
     "showTitle": false,
     "title": ""
    }
   },
   "source": [
    "## Upload changed annotations and images"
   ]
  },
  {
   "cell_type": "code",
   "execution_count": 0,
   "metadata": {
    "application/vnd.databricks.v1+cell": {
     "cellMetadata": {
      "byteLimit": 2048000,
      "rowLimit": 10000
     },
     "inputWidgets": {},
     "nuid": "90e2c788-1f04-4f29-8603-aae58fd3a1f9",
     "showTitle": false,
     "title": ""
    }
   },
   "outputs": [],
   "source": [
    "commitMessage='Uploaded changed annotation and images for class label ending with '+classLabel+' and version '+version\n",
    "commitMetadata={'classLabel': classLabel, 'version': version}\n",
    "\n",
    "importer = branchProjectV2.import_data(commit_message=commitMessage, metadata=commitMetadata)\n",
    "importer.prefix(object_store_uri=containerURLforChangedData+'/'+AnnotationsFolderName+'/'+WalkerHoundSourcePath,\n",
    "                destination=AnnotationsFolderName)\n",
    "importer.prefix(object_store_uri=containerURLforChangedData+'/'+ImagesFolderName+'/'+WalkerHoundSourcePath,\n",
    "                        destination=ImagesFolderName)\n",
    "\n",
    "import_objects(projectBranchV2, importer)"
   ]
  },
  {
   "cell_type": "markdown",
   "metadata": {
    "application/vnd.databricks.v1+cell": {
     "cellMetadata": {},
     "inputWidgets": {},
     "nuid": "1ccb99e0-455f-47d7-bac0-1aba2173bfdb",
     "showTitle": false,
     "title": ""
    }
   },
   "source": [
    "## Review commit log"
   ]
  },
  {
   "cell_type": "code",
   "execution_count": 0,
   "metadata": {
    "application/vnd.databricks.v1+cell": {
     "cellMetadata": {
      "byteLimit": 2048000,
      "rowLimit": 10000
     },
     "inputWidgets": {},
     "nuid": "3944f621-549f-42cd-befe-70e4fc89d540",
     "showTitle": false,
     "title": ""
    }
   },
   "outputs": [],
   "source": [
    "results = map(\n",
    "    lambda n:[n.message],\n",
    "    lakefs.Reference(repository_id=repo_name, reference_id=projectBranchV2, client=clt).log())\n",
    "\n",
    "from tabulate import tabulate\n",
    "print(tabulate(\n",
    "    results,\n",
    "    headers=['Message']))"
   ]
  },
  {
   "cell_type": "markdown",
   "metadata": {
    "application/vnd.databricks.v1+cell": {
     "cellMetadata": {},
     "inputWidgets": {},
     "nuid": "372d22ff-677f-44e5-9422-b2035dd36ba6",
     "showTitle": false,
     "title": ""
    }
   },
   "source": [
    "## Add v2 tag for future use. You can also run your model by using this tag."
   ]
  },
  {
   "cell_type": "code",
   "execution_count": 0,
   "metadata": {
    "application/vnd.databricks.v1+cell": {
     "cellMetadata": {
      "byteLimit": 2048000,
      "rowLimit": 10000
     },
     "inputWidgets": {},
     "nuid": "4e9082b6-4ce7-4ce8-90b0-477eb7deb987",
     "showTitle": false,
     "title": ""
    }
   },
   "outputs": [],
   "source": [
    "tagV2 = datetime.datetime.now().strftime(\"%Y_%m_%d\")+f\"_{projectBranchV2}\"\n",
    "\n",
    "lakefs.Tag(repository_id=repo_name, tag_id=tagV2, client=clt).create(projectBranchV2, exist_ok=True)"
   ]
  },
  {
   "cell_type": "markdown",
   "metadata": {
    "application/vnd.databricks.v1+cell": {
     "cellMetadata": {},
     "inputWidgets": {},
     "nuid": "374b1846-0d11-4acd-bcb8-5be7e030afa0",
     "showTitle": false,
     "title": ""
    }
   },
   "source": [
    "## Get image stats using v1 tag"
   ]
  },
  {
   "cell_type": "code",
   "execution_count": 0,
   "metadata": {
    "application/vnd.databricks.v1+cell": {
     "cellMetadata": {
      "byteLimit": 2048000,
      "rowLimit": 10000
     },
     "inputWidgets": {},
     "nuid": "bff502eb-c126-4ab8-8030-6b0161267f14",
     "showTitle": false,
     "title": ""
    }
   },
   "outputs": [],
   "source": [
    "objects = repo.tag(tagV1).objects(\n",
    "    prefix=ImagesFolderName+'/'+AfghanHoundFileName)\n",
    "\n",
    "for object in objects:\n",
    "    print(object)"
   ]
  },
  {
   "cell_type": "markdown",
   "metadata": {
    "application/vnd.databricks.v1+cell": {
     "cellMetadata": {},
     "inputWidgets": {},
     "nuid": "c4be8ee8-c917-4fd3-bf0c-4a85166f27d0",
     "showTitle": false,
     "title": ""
    }
   },
   "source": [
    "## Get image stats using v2 tag"
   ]
  },
  {
   "cell_type": "code",
   "execution_count": 0,
   "metadata": {
    "application/vnd.databricks.v1+cell": {
     "cellMetadata": {
      "byteLimit": 2048000,
      "rowLimit": 10000
     },
     "inputWidgets": {},
     "nuid": "e930c3a6-8fdc-43b9-a2a8-5b541053d831",
     "showTitle": false,
     "title": ""
    }
   },
   "outputs": [],
   "source": [
    "objects = repo.tag(tagV2).objects(\n",
    "    prefix=ImagesFolderName+'/'+WalkerHoundFileName)\n",
    "\n",
    "for object in objects:\n",
    "    print(object)"
   ]
  },
  {
   "cell_type": "markdown",
   "metadata": {
    "application/vnd.databricks.v1+cell": {
     "cellMetadata": {},
     "inputWidgets": {},
     "nuid": "0ff138b8-a7a6-461c-bf25-6f4f372e2985",
     "showTitle": false,
     "title": ""
    }
   },
   "source": [
    "## Diff between v1 and v2 project branch"
   ]
  },
  {
   "cell_type": "code",
   "execution_count": 0,
   "metadata": {
    "application/vnd.databricks.v1+cell": {
     "cellMetadata": {
      "byteLimit": 2048000,
      "rowLimit": 10000
     },
     "inputWidgets": {},
     "nuid": "00b158f5-a421-4669-abd6-feb43d33bbd0",
     "showTitle": false,
     "title": ""
    }
   },
   "outputs": [],
   "source": [
    "diff = branchProjectV1.diff(other_ref=projectBranchV2)\n",
    "print_diff(diff)"
   ]
  },
  {
   "cell_type": "markdown",
   "metadata": {
    "application/vnd.databricks.v1+cell": {
     "cellMetadata": {},
     "inputWidgets": {},
     "nuid": "574e9af0-34f6-4822-8a35-c9487fe77553",
     "showTitle": false,
     "title": ""
    }
   },
   "source": [
    "## If you made mistakes then you can atomically rollback all changes\n",
    "\n",
    "### Rollback changes in v2 branch"
   ]
  },
  {
   "cell_type": "code",
   "execution_count": 0,
   "metadata": {
    "application/vnd.databricks.v1+cell": {
     "cellMetadata": {
      "byteLimit": 2048000,
      "rowLimit": 10000
     },
     "inputWidgets": {},
     "nuid": "0ca306ae-2861-4c17-8053-7e5d4d314c0c",
     "showTitle": false,
     "title": ""
    }
   },
   "outputs": [],
   "source": [
    "branchProjectV2.revert(parent_number=1, reference=projectBranchV2)"
   ]
  },
  {
   "cell_type": "markdown",
   "metadata": {
    "application/vnd.databricks.v1+cell": {
     "cellMetadata": {},
     "inputWidgets": {},
     "nuid": "ea0c8d0f-e552-47c5-a047-657008ffa82c",
     "showTitle": false,
     "title": ""
    }
   },
   "source": [
    "## Diff between v1 and v2 project branch"
   ]
  },
  {
   "cell_type": "code",
   "execution_count": 0,
   "metadata": {
    "application/vnd.databricks.v1+cell": {
     "cellMetadata": {
      "byteLimit": 2048000,
      "rowLimit": 10000
     },
     "inputWidgets": {},
     "nuid": "483a34a1-e789-469e-bb8e-19ffb7d0db3c",
     "showTitle": false,
     "title": ""
    }
   },
   "outputs": [],
   "source": [
    "diff = branchProjectV1.diff(other_ref=projectBranchV2)\n",
    "print_diff(diff)"
   ]
  },
  {
   "cell_type": "markdown",
   "metadata": {
    "application/vnd.databricks.v1+cell": {
     "cellMetadata": {},
     "inputWidgets": {},
     "nuid": "9be7eea4-81ff-4b68-a6f3-d08635973975",
     "showTitle": false,
     "title": ""
    }
   },
   "source": [
    "# Project Completes"
   ]
  },
  {
   "cell_type": "markdown",
   "metadata": {
    "application/vnd.databricks.v1+cell": {
     "cellMetadata": {},
     "inputWidgets": {},
     "nuid": "952ad19d-83c2-444d-9009-fff6852255d3",
     "showTitle": false,
     "title": ""
    }
   },
   "source": [
    "## More Questions?\n",
    "\n",
    "###### Join the [lakeFS Slack group](https://lakefs.io/slack)"
   ]
  }
 ],
 "metadata": {
  "application/vnd.databricks.v1+notebook": {
   "dashboards": [],
   "language": "python",
   "notebookMetadata": {
    "pythonIndentUnit": 4
   },
   "notebookName": "Unstructured Data ML Demo",
   "widgets": {}
  },
  "kernelspec": {
   "display_name": "Python 3 (ipykernel)",
   "language": "python",
   "name": "python3"
  },
  "language_info": {
   "codemirror_mode": {
    "name": "ipython",
    "version": 3
   },
   "file_extension": ".py",
   "mimetype": "text/x-python",
   "name": "python",
   "nbconvert_exporter": "python",
   "pygments_lexer": "ipython3",
   "version": "3.10.4"
  }
 },
 "nbformat": 4,
 "nbformat_minor": 0
}
