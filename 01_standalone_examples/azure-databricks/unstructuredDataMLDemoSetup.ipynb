{
 "cells": [
  {
   "cell_type": "code",
   "execution_count": 0,
   "metadata": {
    "application/vnd.databricks.v1+cell": {
     "cellMetadata": {},
     "inputWidgets": {},
     "nuid": "e64ac522-53cf-40d3-8738-7554f13bd097",
     "showTitle": false,
     "title": ""
    }
   },
   "outputs": [],
   "source": [
    "import os"
   ]
  },
  {
   "cell_type": "code",
   "execution_count": 0,
   "metadata": {
    "application/vnd.databricks.v1+cell": {
     "cellMetadata": {},
     "inputWidgets": {},
     "nuid": "f925363c-0b07-4fd9-bc89-70bfd407af61",
     "showTitle": false,
     "title": ""
    }
   },
   "outputs": [],
   "source": [
    "import lakefs\n",
    "from lakefs.client import Client\n",
    "\n",
    "clt = Client(\n",
    "   host=lakefsEndPoint,\n",
    "   username=lakefsAccessKey,\n",
    "   password=lakefsSecretKey,\n",
    ")"
   ]
  },
  {
   "cell_type": "code",
   "execution_count": 0,
   "metadata": {
    "application/vnd.databricks.v1+cell": {
     "cellMetadata": {},
     "inputWidgets": {},
     "nuid": "a02a3d6c-df3a-4c8b-85e3-1980d7393410",
     "showTitle": false,
     "title": ""
    }
   },
   "outputs": [],
   "source": [
    "def import_objects(branch, importer):\n",
    "    import time\n",
    "\n",
    "    importer.start()\n",
    "    \n",
    "    while not importer.status().completed and importer.status().error is None:\n",
    "        time.sleep(2)\n",
    "        status = importer.status()\n",
    "        print(status)\n",
    "\n",
    "    if importer.status().completed:\n",
    "        print(f\"\\nImported a total of {importer.status().ingested_objects} objects into branch {branch}\")\n",
    "\n",
    "    if importer.status().error:\n",
    "        raise Exception(status.error)\n",
    "\n",
    "def print_diff(diff):\n",
    "    results = map(\n",
    "        lambda n:[n.path,n.path_type,n.size_bytes,n.type],\n",
    "        diff)\n",
    "\n",
    "    from tabulate import tabulate\n",
    "    print(tabulate(\n",
    "        results,\n",
    "        headers=['Path','Path Type','Size(Bytes)','Type']))"
   ]
  },
  {
   "cell_type": "code",
   "execution_count": 0,
   "metadata": {
    "application/vnd.databricks.v1+cell": {
     "cellMetadata": {
      "byteLimit": 2048000,
      "rowLimit": 10000
     },
     "inputWidgets": {},
     "nuid": "1dfdb51a-368b-4c30-8481-78b257543960",
     "showTitle": false,
     "title": ""
    }
   },
   "outputs": [],
   "source": [
    "print(\"Verifying lakeFS credentials…\")\n",
    "try:\n",
    "    v=clt.version\n",
    "except:\n",
    "    print(\"🛑 failed to get lakeFS version\")\n",
    "else:\n",
    "    print(f\"…✅lakeFS credentials verified\\n\\nℹ️lakeFS version {v}\")"
   ]
  },
  {
   "cell_type": "code",
   "execution_count": 0,
   "metadata": {
    "application/vnd.databricks.v1+cell": {
     "cellMetadata": {},
     "inputWidgets": {},
     "nuid": "16818220-669d-4840-adc4-8492e3047f23",
     "showTitle": false,
     "title": ""
    }
   },
   "outputs": [],
   "source": [
    "repo = lakefs.Repository(repo_name, client=clt).create(storage_namespace=f\"{storageNamespace}\", default_branch=mainBranch, exist_ok=True)\n",
    "branchMain = repo.branch(mainBranch)\n",
    "print(repo)"
   ]
  },
  {
   "cell_type": "code",
   "execution_count": 0,
   "metadata": {
    "application/vnd.databricks.v1+cell": {
     "cellMetadata": {},
     "inputWidgets": {},
     "nuid": "e1f848be-e5b7-442e-b8c7-eb50ef7e64a9",
     "showTitle": false,
     "title": ""
    }
   },
   "outputs": [],
   "source": [
    "branchEmpty = repo.branch(emptyBranch).create(source_reference=mainBranch, exist_ok=True)"
   ]
  }
 ],
 "metadata": {
  "application/vnd.databricks.v1+notebook": {
   "dashboards": [],
   "language": "python",
   "notebookMetadata": {
    "pythonIndentUnit": 4
   },
   "notebookName": "unstructuredDataMLDemoSetup",
   "widgets": {}
  },
  "kernelspec": {
   "display_name": "Python 3 (ipykernel)",
   "language": "python",
   "name": "python3"
  },
  "language_info": {
   "codemirror_mode": {
    "name": "ipython",
    "version": 3
   },
   "file_extension": ".py",
   "mimetype": "text/x-python",
   "name": "python",
   "nbconvert_exporter": "python",
   "pygments_lexer": "ipython3",
   "version": "3.10.4"
  }
 },
 "nbformat": 4,
 "nbformat_minor": 0
}
