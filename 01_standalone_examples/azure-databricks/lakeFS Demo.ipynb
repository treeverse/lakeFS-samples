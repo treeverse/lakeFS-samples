{
 "cells": [
  {
   "cell_type": "markdown",
   "metadata": {
    "application/vnd.databricks.v1+cell": {
     "cellMetadata": {
      "byteLimit": 2048000,
      "rowLimit": 10000
     },
     "inputWidgets": {},
     "nuid": "e5b2d701-d286-49c3-9627-48a2fb1145fb",
     "showTitle": false,
     "title": ""
    }
   },
   "source": [
    "# Managing the Data Lifecycle with lakeFS\n",
    "\n",
    "##Efficient DataOps for High Quality Data Products"
   ]
  },
  {
   "cell_type": "markdown",
   "metadata": {
    "application/vnd.databricks.v1+cell": {
     "cellMetadata": {
      "byteLimit": 2048000,
      "rowLimit": 10000
     },
     "inputWidgets": {},
     "nuid": "cb9e282b-4606-4d1a-bbe7-da33a01834ad",
     "showTitle": false,
     "title": ""
    }
   },
   "source": [
    "#### Environment Set-Up\n",
    "###### (Run only once)"
   ]
  },
  {
   "cell_type": "markdown",
   "metadata": {
    "application/vnd.databricks.v1+cell": {
     "cellMetadata": {
      "byteLimit": 2048000,
      "rowLimit": 10000
     },
     "inputWidgets": {},
     "nuid": "2119af75-0fc7-46d6-b453-d069014992b6",
     "showTitle": false,
     "title": ""
    }
   },
   "source": [
    "\n",
    "<img src=\"https://lakefs.io/wp-content/uploads/2022/06/what-is-lakefs-slide.png\" width=800/>"
   ]
  },
  {
   "cell_type": "markdown",
   "metadata": {
    "application/vnd.databricks.v1+cell": {
     "cellMetadata": {
      "byteLimit": 2048000,
      "rowLimit": 10000
     },
     "inputWidgets": {},
     "nuid": "0fa1af5f-a708-409c-bdf5-09c47766c3c1",
     "showTitle": false,
     "title": ""
    }
   },
   "source": [
    "<img src=\"https://lakefs.io/wp-content/uploads/2022/06/why-git-for-data-2.png\" width=800/>"
   ]
  },
  {
   "cell_type": "code",
   "execution_count": 0,
   "metadata": {
    "application/vnd.databricks.v1+cell": {
     "cellMetadata": {
      "byteLimit": 2048000,
      "rowLimit": 10000
     },
     "inputWidgets": {},
     "nuid": "7163fb20-5be7-4054-9ff7-85023a40387b",
     "showTitle": false,
     "title": ""
    }
   },
   "outputs": [],
   "source": [
    "#setting up lakeFS end point access and secret in order to later configure the python client\n",
    "lakefsEndPoint = 'https://YourEndPoint/' # e.g. 'https://username.azure_region_name.lakefscloud.io'\n",
    "lakefsAccessKey = 'AKIAlakeFSAccessKey'\n",
    "lakefsSecretKey = 'lakeFSSecretKey'"
   ]
  },
  {
   "cell_type": "code",
   "execution_count": 0,
   "metadata": {
    "application/vnd.databricks.v1+cell": {
     "cellMetadata": {
      "byteLimit": 2048000,
      "rowLimit": 10000
     },
     "inputWidgets": {},
     "nuid": "b2f71f6c-2fb1-43c0-a82e-03fbd3df6826",
     "showTitle": false,
     "title": ""
    }
   },
   "outputs": [],
   "source": [
    "# Configuring environment variables\n",
    "\n",
    "repositoryName = \"learn-lakefs-python-repo\"\n",
    "storageNamespace = \"https://storage-account-name.blob.core.windows.net/storage-container-name/\"  + repositoryName # Unique per repository\n",
    "sourceBranch = \"main\"\n",
    "dataPath = \"product-reviews\""
   ]
  },
  {
   "cell_type": "code",
   "execution_count": 0,
   "metadata": {
    "application/vnd.databricks.v1+cell": {
     "cellMetadata": {
      "byteLimit": 2048000,
      "rowLimit": 10000
     },
     "inputWidgets": {},
     "nuid": "367a4eb6-fa2e-4ecb-b088-ad805329acdb",
     "showTitle": false,
     "title": ""
    }
   },
   "outputs": [],
   "source": [
    "import lakefs\n",
    "from lakefs.client import Client\n",
    "\n",
    "clt = Client(\n",
    "    host=lakefsEndPoint,\n",
    "    username=lakefsAccessKey,\n",
    "    password=lakefsSecretKey,\n",
    ")\n",
    "\n",
    "print(\"Created lakeFS client.\")"
   ]
  },
  {
   "cell_type": "code",
   "execution_count": 0,
   "metadata": {
    "application/vnd.databricks.v1+cell": {
     "cellMetadata": {
      "byteLimit": 2048000,
      "rowLimit": 10000
     },
     "inputWidgets": {},
     "nuid": "b4b4db0b-b21b-412a-94dc-e54c11c97394",
     "showTitle": false,
     "title": ""
    }
   },
   "outputs": [],
   "source": [
    "repo = lakefs.Repository(repositoryName, client=clt).create(storage_namespace=storageNamespace, exist_ok=True)\n",
    "print(repo)"
   ]
  },
  {
   "cell_type": "code",
   "execution_count": 0,
   "metadata": {
    "application/vnd.databricks.v1+cell": {
     "cellMetadata": {
      "byteLimit": 2048000,
      "rowLimit": 10000
     },
     "inputWidgets": {},
     "nuid": "768cc328-fe1a-4102-87b7-1961d5ccf9af",
     "showTitle": false,
     "title": ""
    }
   },
   "outputs": [],
   "source": [
    "#Reading data from databricks datasets and inserging into the newly created repository (Creating initial data)\n",
    "\n",
    "import_data_path = \"/databricks-datasets/amazon/test4K/\"\n",
    "df = spark.read.parquet(import_data_path)\n",
    "df.write.format(\"parquet\").save(\"lakefs://{}/{}/{}\".format(repositoryName,sourceBranch,dataPath))\n"
   ]
  },
  {
   "cell_type": "code",
   "execution_count": 0,
   "metadata": {
    "application/vnd.databricks.v1+cell": {
     "cellMetadata": {
      "byteLimit": 2048000,
      "rowLimit": 10000
     },
     "inputWidgets": {},
     "nuid": "b021dd57-2832-4f44-9241-7a9d3aff8efd",
     "showTitle": false,
     "title": ""
    }
   },
   "outputs": [],
   "source": [
    "repo.branch(sourceBranch).commit(message='Added initial data')"
   ]
  },
  {
   "cell_type": "markdown",
   "metadata": {
    "application/vnd.databricks.v1+cell": {
     "cellMetadata": {
      "byteLimit": 2048000,
      "rowLimit": 10000
     },
     "inputWidgets": {},
     "nuid": "ecf3de29-7e3d-4567-81ae-b60da4a3bffc",
     "showTitle": false,
     "title": ""
    }
   },
   "source": [
    "### Create a production identical isolated environment"
   ]
  },
  {
   "cell_type": "code",
   "execution_count": 0,
   "metadata": {
    "application/vnd.databricks.v1+cell": {
     "cellMetadata": {
      "byteLimit": 2048000,
      "rowLimit": 10000
     },
     "inputWidgets": {},
     "nuid": "ce12585a-b7f3-40c1-9f94-b98607338423",
     "showTitle": false,
     "title": ""
    }
   },
   "outputs": [],
   "source": [
    "# Review production Data from your production \"main\" branch\n",
    "# Note - This example uses static strings instead of parameters for an easier read\n",
    "\n",
    "df = spark.read.parquet(\"lakefs://learn-lakefs-python-repo/main/product-reviews/\")\n",
    "df.show()"
   ]
  },
  {
   "cell_type": "code",
   "execution_count": 0,
   "metadata": {
    "application/vnd.databricks.v1+cell": {
     "cellMetadata": {
      "byteLimit": 2048000,
      "rowLimit": 10000
     },
     "inputWidgets": {},
     "nuid": "f42fea89-4e45-4671-bd42-09235ebc7105",
     "showTitle": false,
     "title": ""
    }
   },
   "outputs": [],
   "source": [
    "repo.branch(\"experiment\").create(source_reference=\"main\")"
   ]
  },
  {
   "cell_type": "code",
   "execution_count": 0,
   "metadata": {
    "application/vnd.databricks.v1+cell": {
     "cellMetadata": {
      "byteLimit": 2048000,
      "rowLimit": 10000
     },
     "inputWidgets": {},
     "nuid": "42c628b7-019d-47bf-9d03-f8165dad9aa5",
     "showTitle": false,
     "title": ""
    }
   },
   "outputs": [],
   "source": [
    "#Reading data from the experiment branch\n",
    "df = spark.read.parquet(\"lakefs://learn-lakefs-python-repo/experiment/product-reviews/\")\n",
    "df.show()"
   ]
  },
  {
   "cell_type": "markdown",
   "metadata": {
    "application/vnd.databricks.v1+cell": {
     "cellMetadata": {
      "byteLimit": 2048000,
      "rowLimit": 10000
     },
     "inputWidgets": {},
     "nuid": "cfa23f0a-fb89-4cc7-8c26-9216d431844e",
     "showTitle": false,
     "title": ""
    }
   },
   "source": [
    "### Run ETL Data Pipelines in isolation\n",
    "#### Delete 1 star reviews & re-partition by rating"
   ]
  },
  {
   "cell_type": "code",
   "execution_count": 0,
   "metadata": {
    "application/vnd.databricks.v1+cell": {
     "cellMetadata": {
      "byteLimit": 2048000,
      "rowLimit": 10000
     },
     "inputWidgets": {},
     "nuid": "eeb13b59-a1e4-414a-842f-a99c91e13c08",
     "showTitle": false,
     "title": ""
    }
   },
   "outputs": [],
   "source": [
    "# Delete all overly happy or overly unhappy star ratings\n",
    "\n",
    "df_no_1star=df.where(df.rating!='1')\n",
    "df_no_5star=df_no_1star.where(df.rating!='5')\n",
    "\n",
    "df = df_no_5star\n",
    "df.show()"
   ]
  },
  {
   "cell_type": "code",
   "execution_count": 0,
   "metadata": {
    "application/vnd.databricks.v1+cell": {
     "cellMetadata": {
      "byteLimit": 2048000,
      "rowLimit": 10000
     },
     "inputWidgets": {},
     "nuid": "3a1c63d2-6766-47a6-be33-01c78fac3975",
     "showTitle": false,
     "title": ""
    }
   },
   "outputs": [],
   "source": [
    "# Repartition by rating\n",
    "\n",
    "df.write.partitionBy(\"rating\").format(\"parquet\").save(\"lakefs://learn-lakefs-python-repo/experiment/product-reviews_by_rating\")"
   ]
  },
  {
   "cell_type": "code",
   "execution_count": 0,
   "metadata": {
    "application/vnd.databricks.v1+cell": {
     "cellMetadata": {
      "byteLimit": 2048000,
      "rowLimit": 10000
     },
     "inputWidgets": {},
     "nuid": "c1b57d9c-9237-493b-b731-409ea5c4ee58",
     "showTitle": false,
     "title": ""
    }
   },
   "outputs": [],
   "source": [
    "repo.branch(\"experiment\").commit(\n",
    "    message='Removed 4 & 5 reviews, and repartition by reviews ',\n",
    "    metadata={'using': 'python_sdk', \n",
    "              '::lakefs::CodeVersion::url[url:ui]': 'https://dbc-8ada78b6-3a6d.cloud.databricks.com/?o=8376305627582670#notebook/3047610880313535/command/285921331468809'})"
   ]
  },
  {
   "cell_type": "code",
   "execution_count": 0,
   "metadata": {
    "application/vnd.databricks.v1+cell": {
     "cellMetadata": {
      "byteLimit": 2048000,
      "rowLimit": 10000
     },
     "inputWidgets": {},
     "nuid": "61cd065b-7ea6-4efd-9439-3359c8cf1796",
     "showTitle": false,
     "title": ""
    }
   },
   "outputs": [],
   "source": [
    "# What are the differences between the two branches?\n",
    "main = repo.branch(\"main\")\n",
    "for diff in main.diff(other_ref=\"experiment\"):\n",
    "    print(diff)"
   ]
  },
  {
   "cell_type": "code",
   "execution_count": 0,
   "metadata": {
    "application/vnd.databricks.v1+cell": {
     "cellMetadata": {
      "byteLimit": 2048000,
      "rowLimit": 10000
     },
     "inputWidgets": {},
     "nuid": "d75f2d9a-968a-4132-9c07-6a3151787353",
     "showTitle": false,
     "title": ""
    }
   },
   "outputs": [],
   "source": [
    "# Query rating breakdown\n",
    "\n",
    "df = spark.read.parquet(\"lakefs://learn-lakefs-python-repo/experiment/product-reviews_by_rating\")\n",
    "df.groupby(\"rating\").count().display()\n"
   ]
  },
  {
   "cell_type": "markdown",
   "metadata": {
    "application/vnd.databricks.v1+cell": {
     "cellMetadata": {
      "byteLimit": 2048000,
      "rowLimit": 10000
     },
     "inputWidgets": {},
     "nuid": "619cdcf5-d504-4e5e-baaf-a447c4c16d5b",
     "showTitle": false,
     "title": ""
    }
   },
   "source": [
    "### Merge Changes into Main\n",
    "#### Once you are satisfied, merge into main"
   ]
  },
  {
   "cell_type": "code",
   "execution_count": 0,
   "metadata": {
    "application/vnd.databricks.v1+cell": {
     "cellMetadata": {
      "byteLimit": 2048000,
      "rowLimit": 10000
     },
     "inputWidgets": {},
     "nuid": "ddbbff37-c213-4308-b1f8-9eaf57c1b848",
     "showTitle": false,
     "title": ""
    }
   },
   "outputs": [],
   "source": [
    "#res = repo.branch(\"experiment\").merge_into(repo.branch(\"main\"))\n",
    "#print(res)"
   ]
  },
  {
   "cell_type": "markdown",
   "metadata": {
    "application/vnd.databricks.v1+cell": {
     "cellMetadata": {
      "byteLimit": 2048000,
      "rowLimit": 10000
     },
     "inputWidgets": {},
     "nuid": "de0c27ba-8ff7-4ed2-99e4-5017401ebc91",
     "showTitle": false,
     "title": ""
    }
   },
   "source": [
    "### Unhappy With the changes? Don't merge to main\n",
    "#### Delete the experiment branch"
   ]
  },
  {
   "cell_type": "code",
   "execution_count": 0,
   "metadata": {
    "application/vnd.databricks.v1+cell": {
     "cellMetadata": {
      "byteLimit": 2048000,
      "rowLimit": 10000
     },
     "inputWidgets": {},
     "nuid": "3f23601f-40db-407f-9303-af1fd63a7852",
     "showTitle": false,
     "title": ""
    }
   },
   "outputs": [],
   "source": [
    "repo.branch(\"experiment\").delete();"
   ]
  },
  {
   "cell_type": "markdown",
   "metadata": {
    "application/vnd.databricks.v1+cell": {
     "cellMetadata": {
      "byteLimit": 2048000,
      "rowLimit": 10000
     },
     "inputWidgets": {},
     "nuid": "e33f5ca9-7970-4f3a-adb9-560cc6015ea3",
     "showTitle": false,
     "title": ""
    }
   },
   "source": [
    "\n",
    "<img src=\"https://lakefs.io/wp-content/uploads/2022/06/how-does-lakefs-work-1.png\" width=800/>"
   ]
  },
  {
   "cell_type": "code",
   "execution_count": 0,
   "metadata": {
    "application/vnd.databricks.v1+cell": {
     "cellMetadata": {
      "byteLimit": 2048000,
      "rowLimit": 10000
     },
     "inputWidgets": {},
     "nuid": "65bd81a3-961a-44fa-9bfe-28bd8b9cdbbd",
     "showTitle": false,
     "title": ""
    }
   },
   "outputs": [],
   "source": []
  }
 ],
 "metadata": {
  "application/vnd.databricks.v1+notebook": {
   "dashboards": [],
   "language": "python",
   "notebookMetadata": {
    "pythonIndentUnit": 4
   },
   "notebookName": "lakeFS Demo",
   "widgets": {}
  }
 },
 "nbformat": 4,
 "nbformat_minor": 0
}
