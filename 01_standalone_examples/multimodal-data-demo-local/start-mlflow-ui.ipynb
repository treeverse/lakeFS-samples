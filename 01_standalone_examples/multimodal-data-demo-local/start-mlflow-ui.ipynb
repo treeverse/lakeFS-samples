{
 "cells": [
  {
   "cell_type": "markdown",
   "id": "aa891c5b-66c4-4df4-8d89-9202183c098c",
   "metadata": {},
   "source": [
    "## Start MLflow server and go to [MLflow UI](http://127.0.0.1:5002/)"
   ]
  },
  {
   "cell_type": "code",
   "execution_count": null,
   "id": "be749b47-4833-4a69-aad9-5415f3d61284",
   "metadata": {
    "tags": []
   },
   "outputs": [],
   "source": [
    "!mlflow server -h 0.0.0.0"
   ]
  },
  {
   "cell_type": "code",
   "execution_count": null,
   "id": "cd4290a6-4256-4f6e-9a55-94f598f84a78",
   "metadata": {},
   "outputs": [],
   "source": []
  }
 ],
 "metadata": {
  "kernelspec": {
   "display_name": "Python 3 (ipykernel)",
   "language": "python",
   "name": "python3"
  },
  "language_info": {
   "codemirror_mode": {
    "name": "ipython",
    "version": 3
   },
   "file_extension": ".py",
   "mimetype": "text/x-python",
   "name": "python",
   "nbconvert_exporter": "python",
   "pygments_lexer": "ipython3",
   "version": "3.10.10"
  }
 },
 "nbformat": 4,
 "nbformat_minor": 5
}
