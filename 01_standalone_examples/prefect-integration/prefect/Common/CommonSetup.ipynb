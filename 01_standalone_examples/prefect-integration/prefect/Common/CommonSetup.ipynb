{
 "cells": [
  {
   "cell_type": "markdown",
   "id": "9b2c8fa0-1702-411a-b11c-3190679bf31c",
   "metadata": {},
   "source": [
    "# Integration of lakeFS with Prefect"
   ]
  },
  {
   "cell_type": "markdown",
   "id": "ee068328-3e96-4c22-8441-8a13b82423f5",
   "metadata": {},
   "source": [
    "## Versioning Information"
   ]
  },
  {
   "cell_type": "code",
   "execution_count": null,
   "id": "e834bff9-72b2-4f04-8b26-e10f233dd6a3",
   "metadata": {},
   "outputs": [],
   "source": [
    "sourceBranch = \"main\""
   ]
  },
  {
   "cell_type": "markdown",
   "id": "7a24fa50-8557-4a9e-8463-f093ce8d2bf9",
   "metadata": {},
   "source": [
    "## Import Python packages"
   ]
  },
  {
   "cell_type": "code",
   "execution_count": null,
   "id": "b8bfe84c-fce2-4be0-8314-073c6b9aa1d6",
   "metadata": {},
   "outputs": [],
   "source": [
    "%xmode Minimal\n",
    "import requests\n",
    "import lakefs_demo\n",
    "import os\n",
    "import lakefs"
   ]
  },
  {
   "cell_type": "markdown",
   "id": "a7ede096-1b84-4b59-bdd1-2608ced6be51",
   "metadata": {},
   "source": [
    "## Set environment variables"
   ]
  },
  {
   "cell_type": "code",
   "execution_count": null,
   "id": "468e98e4-7e06-4373-b36b-f1763cc7755d",
   "metadata": {},
   "outputs": [],
   "source": [
    "os.environ[\"LAKECTL_SERVER_ENDPOINT_URL\"] = lakefsEndPoint\n",
    "os.environ[\"LAKECTL_CREDENTIALS_ACCESS_KEY_ID\"] = lakefsAccessKey\n",
    "os.environ[\"LAKECTL_CREDENTIALS_SECRET_ACCESS_KEY\"] = lakefsSecretKey"
   ]
  },
  {
   "cell_type": "markdown",
   "id": "144747fc-cade-4929-8ae2-d488091ff273",
   "metadata": {},
   "source": [
    "## Verify lakeFS credentials by getting lakeFS version"
   ]
  },
  {
   "cell_type": "code",
   "execution_count": null,
   "id": "20525e09-3b2a-4ac1-827f-c0d87a6b0f47",
   "metadata": {},
   "outputs": [],
   "source": [
    "print(\"Verifying lakeFS credentials…\")\n",
    "try:\n",
    "    v=lakefs.client.Client().version\n",
    "except:\n",
    "    print(\"🛑 failed to get lakeFS version\")\n",
    "else:\n",
    "    print(f\"…✅lakeFS credentials verified\\n\\nℹ️lakeFS version {v}\")"
   ]
  },
  {
   "cell_type": "markdown",
   "id": "55f42ca8-071f-4342-8b85-cba131a507ef",
   "metadata": {},
   "source": [
    "## Create Repository"
   ]
  },
  {
   "cell_type": "code",
   "execution_count": null,
   "id": "d5fffe5b-c7e0-4522-9337-3e1e0ef6cb4b",
   "metadata": {},
   "outputs": [],
   "source": [
    "try:\n",
    "    repo=lakefs.repository(repo_name)\n",
    "    print(f\"Found existing repo {repo.id} using storage namespace {repo.properties.storage_namespace}\")\n",
    "except lakefs.exceptions.NotFoundException as f:\n",
    "    print(f\"Repository {repo_name} does not exist, so going to try and create it now.\")\n",
    "    try:\n",
    "        repo=lakefs.repository(repo_name).create(storage_namespace=f\"{storageNamespace}/{repo_name}\")\n",
    "        print(f\"Created new repo {repo.id} using storage namespace {repo.properties.storage_namespace}\")\n",
    "    except lakefs.exceptions.LakeFSException as e:\n",
    "        print(f\"Error creating repo {repo_name}. Error is {e}\")\n",
    "except lakefs.exceptions.LakeFSException as e:\n",
    "    print(f\"Error getting repo {repo_name}: {e}\")"
   ]
  },
  {
   "cell_type": "markdown",
   "id": "83af336f-9866-4aca-9303-9a9171fa9fd9",
   "metadata": {},
   "source": [
    "## S3A Gateway configuration\n",
    "\n",
    "##### Note: lakeFS can be configured to work with Spark in two ways:\n",
    "###### * Access lakeFS using the S3A gateway https://docs.lakefs.io/integrations/spark.html#access-lakefs-using-the-s3a-gateway.\n",
    "###### * Access lakeFS using the lakeFS-specific Hadoop FileSystem https://docs.lakefs.io/integrations/spark.html#access-lakefs-using-the-lakefs-specific-hadoop-filesystem."
   ]
  },
  {
   "cell_type": "code",
   "execution_count": null,
   "id": "370c2624-3ae6-464b-9379-65198a1218c6",
   "metadata": {},
   "outputs": [],
   "source": [
    "from pyspark.context import SparkContext\n",
    "from pyspark.sql.session import SparkSession\n",
    "sc = SparkContext.getOrCreate()\n",
    "spark = SparkSession(sc)\n",
    "\n",
    "sc._jsc.hadoopConfiguration().set(\"fs.s3a.access.key\", lakefsAccessKey)\n",
    "sc._jsc.hadoopConfiguration().set(\"fs.s3a.secret.key\", lakefsSecretKey)\n",
    "sc._jsc.hadoopConfiguration().set(\"fs.s3a.endpoint\", lakefsEndPoint)\n",
    "sc._jsc.hadoopConfiguration().set(\"fs.s3a.path.style.access\", \"true\")"
   ]
  },
  {
   "cell_type": "markdown",
   "id": "113d0e32-140a-43c5-8c4d-fe08b8b963eb",
   "metadata": {},
   "source": [
    "## Set Prefect variables which are used by the demo workflow"
   ]
  },
  {
   "cell_type": "code",
   "execution_count": null,
   "id": "2fbbe9b8-c116-421e-abc5-5b7ace4ffe76",
   "metadata": {},
   "outputs": [],
   "source": [
    "prefectAPIEndPoint = 'http://host.docker.internal:4200/api'\n",
    "prefectUIEndPoint = 'http://127.0.0.1:4200'\n",
    "\n",
    "repo_variable_deletion_request = requests.delete(prefectAPIEndPoint + '/variables/name/repo')\n",
    "repo_variable_creation_request = requests.post(prefectAPIEndPoint + '/variables', json={\"name\": \"repo\", \"value\": repo_name})\n",
    "#print(repo_variable_creation_request.json())\n",
    "\n",
    "sourceBranch_variable_deletion_request = requests.delete(prefectAPIEndPoint + '/variables/name/source_branch')\n",
    "sourceBranch_variable_creation_request = requests.post(prefectAPIEndPoint + '/variables', json={\"name\": \"source_branch\", \"value\": sourceBranch})\n",
    "\n",
    "newBranch_variable_deletion_request = requests.delete(prefectAPIEndPoint + '/variables/name/new_branch')\n",
    "newBranch_variable_creation_request = requests.post(prefectAPIEndPoint + '/variables', json={\"name\": \"new_branch\", \"value\": newBranch})\n",
    "\n",
    "prefect_ui_endpoint_variable_deletion_request = requests.delete(prefectAPIEndPoint + '/variables/name/prefect_ui_endpoint')\n",
    "prefect_ui_endpoint_variable_creation_request = requests.post(prefectAPIEndPoint + '/variables', json={\"name\": \"prefect_ui_endpoint\", \"value\": prefectUIEndPoint})\n",
    "\n",
    "if lakefsEndPoint.startswith('http://host.docker.internal'):\n",
    "    lakefsUIEndPoint = lakefsEndPoint.replace('host.docker.internal','127.0.0.1')\n",
    "elif lakefsEndPoint.startswith('http://lakefs'):\n",
    "    lakefsUIEndPoint = 'http://127.0.0.1:58000'\n",
    "else:\n",
    "    lakefsUIEndPoint = lakefsEndPoint\n",
    "    \n",
    "lakefs_ui_endpoint_variable_deletion_request = requests.delete(prefectAPIEndPoint + '/variables/name/lakefs_ui_endpoint')\n",
    "lakefs_ui_endpoint_variable_creation_request = requests.post(prefectAPIEndPoint + '/variables', json={\"name\": \"lakefs_ui_endpoint\", \"value\": lakefsUIEndPoint})\n",
    "\n",
    "print(\"Created Prefect variables\")"
   ]
  }
 ],
 "metadata": {
  "kernelspec": {
   "display_name": "Python 3 (ipykernel)",
   "language": "python",
   "name": "python3"
  },
  "language_info": {
   "codemirror_mode": {
    "name": "ipython",
    "version": 3
   },
   "file_extension": ".py",
   "mimetype": "text/x-python",
   "name": "python",
   "nbconvert_exporter": "python",
   "pygments_lexer": "ipython3",
   "version": "3.10.4"
  }
 },
 "nbformat": 4,
 "nbformat_minor": 5
}
