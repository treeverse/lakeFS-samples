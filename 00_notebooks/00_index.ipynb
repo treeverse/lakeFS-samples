{
 "cells": [
  {
   "cell_type": "markdown",
   "id": "8373c6cd-8dad-4706-a4d0-421906e774ee",
   "metadata": {},
   "source": [
    "<img src=\"./images/logo.svg\" alt=\"lakeFS logo\" width=300/> \n",
    "\n",
    "All of these notebooks can be run using the provided `docker-compose.yml` (unless otherwise specified). \n",
    "\n",
    "See \"_Standalone demos_\" below for those, including those for Airflow and Dagster, that run standalone."
   ]
  },
  {
   "cell_type": "markdown",
   "id": "bec505c2-0b01-459a-bdc4-ad49b24830c9",
   "metadata": {},
   "source": [
    "## Sample Notebooks"
   ]
  },
  {
   "cell_type": "markdown",
   "id": "50388995-f6fc-45db-ad36-a7c4c9dac95d",
   "metadata": {},
   "source": [
    "* [**Integration of lakeFS with Spark and Python**](./spark-demo.ipynb) \n",
    "* [**Creating Dev-Test environments with lakeFS branches**](./dev-test.ipynb) \n",
    "* [**Data Lineage with lakeFS**](./data-lineage.ipynb) \n",
    "* [**Integration of lakeFS with Delta Lake and Apache Spark**](./delta-lake.ipynb) \n",
    "* [**Integration of lakeFS with Delta Lake and Python**](./delta-lake-python.ipynb)\n",
    "* [**Displaying diff between Delta Tables**](./delta-diff.ipynb)<br/>_See also the [accompanying blog](https://lakefs.io/blog/lakefs-supports-delta-lake-diff/)_\n",
    "* [**Only allow specific file formats in data lake**](hooks-webhooks-demo.ipynb) (with lakeFS webhooks)\n",
    "* [**Prevent unintended schema change**](hooks-schema-validation.ipynb) (with lakeFS Lua hooks)\n",
    "* [**Avoid leaking PII data**](hooks-schema-and-pii-validation.ipynb) (shows how to use multiple Lua hooks)\n",
    "* [**Import into a lakeFS repository from multiple paths**](./import-multiple-buckets.ipynb) \n",
    "* [**ML Experimentation/Reproducibility 01 (Dogs)**](./ml-reproducibility.ipynb)\n",
    "* [**ML Experimentation 02 (Wine Quality)**](./ml-experimentation-wine-quality-prediction.ipynb)</br>_See also the [accompanying blog](https://lakefs.io/blog/building-an-ml-experimentation-platform-for-easy-reproducibility-using-lakefs/)_\n",
    "* [**RBAC demo**](./rbac-demo.ipynb) </br> _lakefS Cloud only_ \n",
    "* [**Version Control of multi-buckets pipelines**](./version-control-of-multi-buckets-pipelines.ipynb) \n",
    "* [**Reprocess and Backfill Data with new ETL logic**](./reprocess-backfill-data.ipynb) \n",
    "* **lakeFS and Apache Iceberg**\n",
    "    * [Basic example](./iceberg-lakefs-basic.ipynb)\n",
    "    * [NYC Film Permits example](./iceberg-lakefs-nyc.ipynb)\n",
    "    * [What happens if you use Iceberg without the lakeFS support](./iceberg-lakefs-default.ipynb)\n",
    "* **Using R with lakeFS**\n",
    "    * [Basic usage](./R.ipynb)\n",
    "    * [Weather data](./R-weather.ipynb)\n",
    "    * [NYC Film permits example](./R-nyc.ipynb)\n",
    "    * [Rough notes around R client](./R-client.ipynb)"
   ]
  },
  {
   "cell_type": "markdown",
   "id": "93ba5f85-ec96-4dc6-bc5c-f9313a658112",
   "metadata": {},
   "source": [
    "### Write-Audit-Publish pattern\n",
    "\n",
    "See https://lakefs.io/blog/data-engineering-patterns-write-audit-publish/"
   ]
  },
  {
   "cell_type": "markdown",
   "id": "305a0733-ee99-4d4f-8dcf-94b9e9dd9fd5",
   "metadata": {},
   "source": [
    "* [**Write-Audit-Publish / lakeFS**](write-audit-publish/wap-lakefs.ipynb) <br/> _With support for heterogeneous data formats and cross-collection consistency_\n",
    "* [**Write-Audit-Publish / Apache Iceberg**](write-audit-publish/wap-iceberg.ipynb)\n",
    "* [**Write-Audit-Publish / Project Nessie**](write-audit-publish/wap-nessie.ipynb)\n",
    "* [**Write-Audit-Publish / Delta Lake**](write-audit-publish/wap-delta.ipynb)\n",
    "* [**Write-Audit-Publish / Apache Hudi**](write-audit-publish/wap-hudi.ipynb)\n"
   ]
  },
  {
   "cell_type": "markdown",
   "id": "c0de105e-2071-438c-b9fa-5ffe664d47ac",
   "metadata": {},
   "source": [
    "## Standalone demos\n",
    "\n",
    "These need to be run separately as they have dependencies that are not included in the base docker-compose.yml"
   ]
  },
  {
   "cell_type": "markdown",
   "id": "34f482d7-e276-4c4c-b0aa-401371cde0aa",
   "metadata": {
    "tags": []
   },
   "source": [
    "* [**Airflow** (1)](https://github.com/treeverse/lakeFS-samples/blob/main/01_standalone_examples/airflow-01/) - Four examples of using lakeFS with Airflow: \n",
    "    * Versioning DAGs and running pipeline from hooks using a configurable version of DAGs \n",
    "    * Isolating Airflow job run and atomic promotion to production\n",
    "    * Integration of lakeFS with Airflow via Hooks\n",
    "    * Troubleshooting production issues\n",
    "* [**Airflow** (2)](https://github.com/treeverse/lakeFS-samples/blob/main/01_standalone_examples/airflow-02/) - lakeFS + Airflow\n",
    "* [Azure **Databricks**](https://github.com/treeverse/lakeFS-samples/blob/main/01_standalone_examples/azure-databricks/)\n",
    "* [AWS **Databricks**](https://github.com/treeverse/lakeFS-samples/blob/main/01_standalone_examples/aws-databricks/)\n",
    "* [AWS **Glue and Athena**](https://github.com/treeverse/lakeFS-samples/blob/main/01_standalone_examples/aws-glue-athena/)\n",
    "* [lakeFS + **Dagster**](https://github.com/treeverse/lakeFS-samples/blob/main/01_standalone_examples/dagster-integration/)\n",
    "* [lakeFS + **Prefect**](https://github.com/treeverse/lakeFS-samples/blob/main/01_standalone_examples/prefect-integration/)\n",
    "* [*Labelbox* integration](https://github.com/treeverse/lakeFS-samples/blob/main/01_standalone_examples/labelbox-integration/)\n",
    "* [How to **migrate or clone** a repo](https://github.com/treeverse/lakeFS-samples/blob/main/01_standalone_examples/migrate-or-clone-repo/)"
   ]
  },
  {
   "cell_type": "markdown",
   "id": "d1cb588f",
   "metadata": {},
   "source": [
    "### Notebooks for Demos and Conference Talks\n",
    "\n",
    "_These may have existing environment or data requirements; they're included here so that you can see the contents and be inspired by them—but they may not run properly._"
   ]
  },
  {
   "cell_type": "markdown",
   "id": "5859a5c9",
   "metadata": {},
   "source": [
    "* [**Chaos Engineering: Books Demo (Data + AI Summit 2022)**](./demos-and-talks/chaos-engineering_dais22.ipynb)\n",
    "* [**Delta Lake / lakeFS Multi-table transaction support**](./demos-and-talks/lakeFS-DeltaLake-multi-table-transaction-consistency.ipynb)\n",
    "* [**lakeFS ❤️ Azure Synapse**](./demos-and-talks/lakeFSOnSynapse.ipynb)"
   ]
  },
  {
   "cell_type": "markdown",
   "id": "8e0db947-ff78-40b9-8e7c-a319c28ccf06",
   "metadata": {},
   "source": [
    "## lakeFS Quickstart"
   ]
  },
  {
   "cell_type": "markdown",
   "id": "27c62296-567e-417c-b6eb-45e31b10004b",
   "metadata": {
    "tags": []
   },
   "source": [
    "* [⭐**lakeFS Quickstart**⭐](https://docs.lakefs.io/quickstart/)"
   ]
  },
  {
   "cell_type": "markdown",
   "id": "5ece18be-4650-44b2-9785-3facdec304a3",
   "metadata": {},
   "source": [
    "## Got Questions or Want to Chat?\n",
    "\n",
    "**👉🏻 Join the lakeFS Slack group - https://lakefs.io/slack**"
   ]
  }
 ],
 "metadata": {
  "kernelspec": {
   "display_name": "Python 3 (ipykernel)",
   "language": "python",
   "name": "python3"
  },
  "language_info": {
   "codemirror_mode": {
    "name": "ipython",
    "version": 3
   },
   "file_extension": ".py",
   "mimetype": "text/x-python",
   "name": "python",
   "nbconvert_exporter": "python",
   "pygments_lexer": "ipython3",
   "version": "3.10.10"
  }
 },
 "nbformat": 4,
 "nbformat_minor": 5
}
